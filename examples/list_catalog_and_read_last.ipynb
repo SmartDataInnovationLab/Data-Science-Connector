{
 "cells": [
  {
   "cell_type": "code",
   "execution_count": null,
   "metadata": {},
   "outputs": [],
   "source": [
    "from intake_ids import ConnectorCatalog\n",
    "\n",
    "provider_url = \"https://provider:8080\"\n",
    "consumer_url = \"https://consumer:8080\"\n",
    "\n",
    "catalog = ConnectorCatalog(provider_url=provider_url, consumer_url=consumer_url, name=\"testcat\", auth=(\"admin\", \"password\"))\n",
    "catalog"
   ]
  },
  {
   "cell_type": "code",
   "execution_count": null,
   "metadata": {},
   "outputs": [],
   "source": [
    "len(list(catalog))"
   ]
  },
  {
   "cell_type": "code",
   "execution_count": null,
   "metadata": {},
   "outputs": [],
   "source": [
    "last_entry: any\n",
    "for entry_id, entry in catalog.items():\n",
    "    display(entry)\n",
    "    last_entry = entry"
   ]
  },
  {
   "cell_type": "code",
   "execution_count": null,
   "metadata": {},
   "outputs": [],
   "source": [
    "for chunk in last_entry.read_chunked(): display(chunk)"
   ]
  }
 ],
 "metadata": {
  "interpreter": {
   "hash": "fb4beda5a4c69f137057243dbc2dc0588fffe352cba42b265875a1e8d9564f47"
  },
  "kernelspec": {
   "display_name": "Python 3.10.5 64-bit ('INTAKEIDS')",
   "language": "python",
   "name": "python3"
  },
  "language_info": {
   "codemirror_mode": {
    "name": "ipython",
    "version": 3
   },
   "file_extension": ".py",
   "mimetype": "text/x-python",
   "name": "python",
   "nbconvert_exporter": "python",
   "pygments_lexer": "ipython3",
   "version": "3.10.5"
  },
  "orig_nbformat": 4,
  "vscode": {
   "interpreter": {
    "hash": "fb4beda5a4c69f137057243dbc2dc0588fffe352cba42b265875a1e8d9564f47"
   }
  }
 },
 "nbformat": 4,
 "nbformat_minor": 2
}
