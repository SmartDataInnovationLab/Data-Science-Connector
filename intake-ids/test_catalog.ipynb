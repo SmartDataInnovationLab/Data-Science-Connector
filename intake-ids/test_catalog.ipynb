{
 "cells": [
  {
   "cell_type": "code",
   "execution_count": 6,
   "metadata": {},
   "outputs": [],
   "source": [
    "from intake_ids import ConnectorCatalog"
   ]
  },
  {
   "cell_type": "code",
   "execution_count": 7,
   "metadata": {},
   "outputs": [
    {
     "data": {
      "application/yaml": "testcat:\n  args:\n    consumer_url: https://consumer:8080\n    name: testcat\n    provider_url: https://provider:8080\n  description: ''\n  driver: intake_ids.catalog.ConnectorCatalog\n  metadata: {}\n",
      "text/plain": [
       "testcat:\n",
       "  args:\n",
       "    consumer_url: https://consumer:8080\n",
       "    name: testcat\n",
       "    provider_url: https://provider:8080\n",
       "  description: ''\n",
       "  driver: intake_ids.catalog.ConnectorCatalog\n",
       "  metadata: {}\n"
      ]
     },
     "metadata": {
      "application/json": {
       "root": "testcat"
      }
     },
     "output_type": "display_data"
    }
   ],
   "source": [
    "catalog = ConnectorCatalog(provider_url=\"https://provider:8080\", consumer_url=\"https://consumer:8080\", name=\"testcat\")\n",
    "catalog"
   ]
  },
  {
   "cell_type": "code",
   "execution_count": 8,
   "metadata": {},
   "outputs": [
    {
     "data": {
      "text/plain": [
       "2"
      ]
     },
     "execution_count": 8,
     "metadata": {},
     "output_type": "execute_result"
    }
   ],
   "source": [
    "len(list(catalog))"
   ]
  },
  {
   "cell_type": "code",
   "execution_count": 9,
   "metadata": {},
   "outputs": [
    {
     "data": {
      "application/yaml": "https://provider:8080/api/representations/4c5bc876-840b-4ef0-b342-ba992582c3f3:\n  args:\n    consumer_url: https://consumer:8080\n    provider_url: https://provider:8080\n    representation: https://provider:8080/api/representations/4c5bc876-840b-4ef0-b342-ba992582c3f3\n    resource: https://provider:8080/api/offers/98d514f1-90d1-45a0-86fa-ce2530b504ea\n  description: \"## \\n\\n\\nrepresentation: https://provider:8080/api/representations/4c5bc876-840b-4ef0-b342-ba992582c3f3\"\n  driver: intake_ids.connector_csv_source.ConnectorCSVSource\n  metadata:\n    catalog_dir: ''\n",
      "text/plain": [
       "https://provider:8080/api/representations/4c5bc876-840b-4ef0-b342-ba992582c3f3:\n",
       "  args:\n",
       "    consumer_url: https://consumer:8080\n",
       "    provider_url: https://provider:8080\n",
       "    representation: https://provider:8080/api/representations/4c5bc876-840b-4ef0-b342-ba992582c3f3\n",
       "    resource: https://provider:8080/api/offers/98d514f1-90d1-45a0-86fa-ce2530b504ea\n",
       "  description: \"## \\n\\n\\nrepresentation: https://provider:8080/api/representations/4c5bc876-840b-4ef0-b342-ba992582c3f3\"\n",
       "  driver: intake_ids.connector_csv_source.ConnectorCSVSource\n",
       "  metadata:\n",
       "    catalog_dir: ''\n"
      ]
     },
     "metadata": {
      "application/json": {
       "root": "https://provider:8080/api/representations/4c5bc876-840b-4ef0-b342-ba992582c3f3"
      }
     },
     "output_type": "display_data"
    },
    {
     "data": {
      "application/yaml": "https://provider:8080/api/representations/04989a6e-8dc7-43c9-b9a7-8d9b5c4f4efa:\n  args:\n    consumer_url: https://consumer:8080\n    provider_url: https://provider:8080\n    representation: https://provider:8080/api/representations/04989a6e-8dc7-43c9-b9a7-8d9b5c4f4efa\n    resource: https://provider:8080/api/offers/e2a7b5c8-d19c-4d0c-a96a-afac21754b81\n  description: \"## \\n\\n\\nrepresentation: https://provider:8080/api/representations/04989a6e-8dc7-43c9-b9a7-8d9b5c4f4efa\"\n  driver: intake_ids.connector_csv_source.ConnectorCSVSource\n  metadata:\n    catalog_dir: ''\n",
      "text/plain": [
       "https://provider:8080/api/representations/04989a6e-8dc7-43c9-b9a7-8d9b5c4f4efa:\n",
       "  args:\n",
       "    consumer_url: https://consumer:8080\n",
       "    provider_url: https://provider:8080\n",
       "    representation: https://provider:8080/api/representations/04989a6e-8dc7-43c9-b9a7-8d9b5c4f4efa\n",
       "    resource: https://provider:8080/api/offers/e2a7b5c8-d19c-4d0c-a96a-afac21754b81\n",
       "  description: \"## \\n\\n\\nrepresentation: https://provider:8080/api/representations/04989a6e-8dc7-43c9-b9a7-8d9b5c4f4efa\"\n",
       "  driver: intake_ids.connector_csv_source.ConnectorCSVSource\n",
       "  metadata:\n",
       "    catalog_dir: ''\n"
      ]
     },
     "metadata": {
      "application/json": {
       "root": "https://provider:8080/api/representations/04989a6e-8dc7-43c9-b9a7-8d9b5c4f4efa"
      }
     },
     "output_type": "display_data"
    }
   ],
   "source": [
    "last_entry: any\n",
    "for entry_id, entry in catalog.items():\n",
    "    display(entry)\n",
    "    last_entry = entry"
   ]
  },
  {
   "cell_type": "code",
   "execution_count": 10,
   "metadata": {},
   "outputs": [
    {
     "data": {
      "text/html": [
       "<div>\n",
       "<style scoped>\n",
       "    .dataframe tbody tr th:only-of-type {\n",
       "        vertical-align: middle;\n",
       "    }\n",
       "\n",
       "    .dataframe tbody tr th {\n",
       "        vertical-align: top;\n",
       "    }\n",
       "\n",
       "    .dataframe thead th {\n",
       "        text-align: right;\n",
       "    }\n",
       "</style>\n",
       "<table border=\"1\" class=\"dataframe\">\n",
       "  <thead>\n",
       "    <tr style=\"text-align: right;\">\n",
       "      <th></th>\n",
       "      <th>number</th>\n",
       "      <th>title</th>\n",
       "    </tr>\n",
       "  </thead>\n",
       "  <tbody>\n",
       "    <tr>\n",
       "      <th>0</th>\n",
       "      <td>5</td>\n",
       "      <td>aaa</td>\n",
       "    </tr>\n",
       "    <tr>\n",
       "      <th>1</th>\n",
       "      <td>6</td>\n",
       "      <td>bbb</td>\n",
       "    </tr>\n",
       "    <tr>\n",
       "      <th>2</th>\n",
       "      <td>7</td>\n",
       "      <td>ccc</td>\n",
       "    </tr>\n",
       "  </tbody>\n",
       "</table>\n",
       "</div>"
      ],
      "text/plain": [
       "   number title\n",
       "0       5   aaa\n",
       "1       6   bbb\n",
       "2       7   ccc"
      ]
     },
     "execution_count": 10,
     "metadata": {},
     "output_type": "execute_result"
    }
   ],
   "source": [
    "last_entry.read()"
   ]
  }
 ],
 "metadata": {
  "kernelspec": {
   "display_name": "Python 3.10.5 64-bit ('INTAKEIDS')",
   "language": "python",
   "name": "python3"
  },
  "language_info": {
   "codemirror_mode": {
    "name": "ipython",
    "version": 3
   },
   "file_extension": ".py",
   "mimetype": "text/x-python",
   "name": "python",
   "nbconvert_exporter": "python",
   "pygments_lexer": "ipython3",
   "version": "3.10.5"
  },
  "orig_nbformat": 4,
  "vscode": {
   "interpreter": {
    "hash": "fb4beda5a4c69f137057243dbc2dc0588fffe352cba42b265875a1e8d9564f47"
   }
  }
 },
 "nbformat": 4,
 "nbformat_minor": 2
}
