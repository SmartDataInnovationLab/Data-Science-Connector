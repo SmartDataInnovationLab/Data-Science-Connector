{
 "cells": [
  {
   "cell_type": "code",
   "execution_count": 5,
   "metadata": {},
   "outputs": [
    {
     "data": {
      "application/yaml": "testcat:\n  args:\n    auth: !!python/tuple\n    - admin\n    - password\n    consumer_url: https://connectora:8080\n    name: testcat\n    provider_url: https://connectorb:8081\n  description: ''\n  driver: intake_ids.catalog.ConnectorCatalog\n  metadata: {}\n",
      "text/plain": [
       "testcat:\n",
       "  args:\n",
       "    auth: !!python/tuple\n",
       "    - admin\n",
       "    - password\n",
       "    consumer_url: https://connectora:8080\n",
       "    name: testcat\n",
       "    provider_url: https://connectorb:8081\n",
       "  description: ''\n",
       "  driver: intake_ids.catalog.ConnectorCatalog\n",
       "  metadata: {}\n"
      ]
     },
     "metadata": {
      "application/json": {
       "root": "testcat"
      }
     },
     "output_type": "display_data"
    }
   ],
   "source": [
    "from intake_ids import ConnectorCatalog\n",
    "\n",
    "# provider_url = \"https://provider:8080\"\n",
    "# consumer_url = \"https://consumer:8080\"\n",
    "provider_url = \"https://connectorb:8081\"\n",
    "consumer_url = \"https://connectora:8080\"\n",
    "\n",
    "catalog = ConnectorCatalog(provider_url=provider_url, consumer_url=consumer_url, name=\"testcat\", auth=(\"admin\", \"password\"))\n",
    "catalog"
   ]
  },
  {
   "cell_type": "code",
   "execution_count": 6,
   "metadata": {},
   "outputs": [
    {
     "data": {
      "text/plain": [
       "2"
      ]
     },
     "execution_count": 6,
     "metadata": {},
     "output_type": "execute_result"
    }
   ],
   "source": [
    "len(list(catalog))"
   ]
  },
  {
   "cell_type": "code",
   "execution_count": 7,
   "metadata": {},
   "outputs": [],
   "source": [
    "last_entry: any\n",
    "for entry_id, entry in catalog.items():\n",
    "    # display(entry)\n",
    "    last_entry = entry"
   ]
  },
  {
   "cell_type": "code",
   "execution_count": 8,
   "metadata": {},
   "outputs": [
    {
     "data": {
      "text/html": [
       "<div>\n",
       "<style scoped>\n",
       "    .dataframe tbody tr th:only-of-type {\n",
       "        vertical-align: middle;\n",
       "    }\n",
       "\n",
       "    .dataframe tbody tr th {\n",
       "        vertical-align: top;\n",
       "    }\n",
       "\n",
       "    .dataframe thead th {\n",
       "        text-align: right;\n",
       "    }\n",
       "</style>\n",
       "<table border=\"1\" class=\"dataframe\">\n",
       "  <thead>\n",
       "    <tr style=\"text-align: right;\">\n",
       "      <th></th>\n",
       "      <th>5</th>\n",
       "      <th>aaa</th>\n",
       "    </tr>\n",
       "  </thead>\n",
       "  <tbody>\n",
       "    <tr>\n",
       "      <th>0</th>\n",
       "      <td>6</td>\n",
       "      <td>bbb</td>\n",
       "    </tr>\n",
       "    <tr>\n",
       "      <th>1</th>\n",
       "      <td>7</td>\n",
       "      <td>ccc</td>\n",
       "    </tr>\n",
       "  </tbody>\n",
       "</table>\n",
       "</div>"
      ],
      "text/plain": [
       "   5  aaa\n",
       "0  6  bbb\n",
       "1  7  ccc"
      ]
     },
     "metadata": {},
     "output_type": "display_data"
    },
    {
     "data": {
      "text/html": [
       "<div>\n",
       "<style scoped>\n",
       "    .dataframe tbody tr th:only-of-type {\n",
       "        vertical-align: middle;\n",
       "    }\n",
       "\n",
       "    .dataframe tbody tr th {\n",
       "        vertical-align: top;\n",
       "    }\n",
       "\n",
       "    .dataframe thead th {\n",
       "        text-align: right;\n",
       "    }\n",
       "</style>\n",
       "<table border=\"1\" class=\"dataframe\">\n",
       "  <thead>\n",
       "    <tr style=\"text-align: right;\">\n",
       "      <th></th>\n",
       "      <th>8</th>\n",
       "      <th>A-A-A</th>\n",
       "    </tr>\n",
       "  </thead>\n",
       "  <tbody>\n",
       "    <tr>\n",
       "      <th>0</th>\n",
       "      <td>9</td>\n",
       "      <td>B-B-B</td>\n",
       "    </tr>\n",
       "    <tr>\n",
       "      <th>1</th>\n",
       "      <td>10</td>\n",
       "      <td>C-C-C</td>\n",
       "    </tr>\n",
       "  </tbody>\n",
       "</table>\n",
       "</div>"
      ],
      "text/plain": [
       "    8  A-A-A\n",
       "0   9  B-B-B\n",
       "1  10  C-C-C"
      ]
     },
     "metadata": {},
     "output_type": "display_data"
    }
   ],
   "source": [
    "for chunk in last_entry.read_chunked(): display(chunk)"
   ]
  }
 ],
 "metadata": {
  "interpreter": {
   "hash": "fb4beda5a4c69f137057243dbc2dc0588fffe352cba42b265875a1e8d9564f47"
  },
  "kernelspec": {
   "display_name": "Python 3.10.5 64-bit ('INTAKEIDS')",
   "language": "python",
   "name": "python3"
  },
  "language_info": {
   "codemirror_mode": {
    "name": "ipython",
    "version": 3
   },
   "file_extension": ".py",
   "mimetype": "text/x-python",
   "name": "python",
   "nbconvert_exporter": "python",
   "pygments_lexer": "ipython3",
   "version": "3.10.5"
  },
  "orig_nbformat": 4,
  "vscode": {
   "interpreter": {
    "hash": "fb4beda5a4c69f137057243dbc2dc0588fffe352cba42b265875a1e8d9564f47"
   }
  }
 },
 "nbformat": 4,
 "nbformat_minor": 2
}
