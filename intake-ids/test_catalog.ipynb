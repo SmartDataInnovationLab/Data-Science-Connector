{
 "cells": [
  {
   "cell_type": "code",
   "execution_count": 1,
   "metadata": {},
   "outputs": [],
   "source": [
    "from intake_ids import ConnectorCatalog"
   ]
  },
  {
   "cell_type": "code",
   "execution_count": 18,
   "metadata": {},
   "outputs": [
    {
     "data": {
      "application/yaml": "testcat:\n  args:\n    consumer_url: https://consumer:8080\n    name: testcat\n    provider_url: https://provider:8080\n  description: ''\n  driver: intake_ids.catalog.ConnectorCatalog\n  metadata: {}\n",
      "text/plain": [
       "testcat:\n",
       "  args:\n",
       "    consumer_url: https://consumer:8080\n",
       "    name: testcat\n",
       "    provider_url: https://provider:8080\n",
       "  description: ''\n",
       "  driver: intake_ids.catalog.ConnectorCatalog\n",
       "  metadata: {}\n"
      ]
     },
     "metadata": {
      "application/json": {
       "root": "testcat"
      }
     },
     "output_type": "display_data"
    }
   ],
   "source": [
    "catalog = ConnectorCatalog(provider_url=\"https://provider:8080\", consumer_url=\"https://consumer:8080\", name=\"testcat\")\n",
    "catalog"
   ]
  },
  {
   "cell_type": "code",
   "execution_count": 14,
   "metadata": {},
   "outputs": [
    {
     "data": {
      "text/plain": [
       "2"
      ]
     },
     "execution_count": 14,
     "metadata": {},
     "output_type": "execute_result"
    }
   ],
   "source": [
    "len(list(catalog))"
   ]
  },
  {
   "cell_type": "code",
   "execution_count": 19,
   "metadata": {},
   "outputs": [
    {
     "data": {
      "application/yaml": "https://provider:8080/api/representations/eb518d99-b799-4d79-b825-cf954eb55dce:\n  args:\n    consumer_url: https://consumer:8080\n    provider_url: https://provider:8080\n    representation: https://provider:8080/api/representations/eb518d99-b799-4d79-b825-cf954eb55dce\n    resource: https://provider:8080/api/offers/8f8315d2-0301-4878-9358-06a12e0d39f0\n  description: \"## \\n\\n\\nrepresentation: https://provider:8080/api/representations/eb518d99-b799-4d79-b825-cf954eb55dce\"\n  driver: intake_ids.connector_csv_source.ConnectorCSVSource\n  metadata:\n    catalog_dir: ''\n",
      "text/plain": [
       "https://provider:8080/api/representations/eb518d99-b799-4d79-b825-cf954eb55dce:\n",
       "  args:\n",
       "    consumer_url: https://consumer:8080\n",
       "    provider_url: https://provider:8080\n",
       "    representation: https://provider:8080/api/representations/eb518d99-b799-4d79-b825-cf954eb55dce\n",
       "    resource: https://provider:8080/api/offers/8f8315d2-0301-4878-9358-06a12e0d39f0\n",
       "  description: \"## \\n\\n\\nrepresentation: https://provider:8080/api/representations/eb518d99-b799-4d79-b825-cf954eb55dce\"\n",
       "  driver: intake_ids.connector_csv_source.ConnectorCSVSource\n",
       "  metadata:\n",
       "    catalog_dir: ''\n"
      ]
     },
     "metadata": {
      "application/json": {
       "root": "https://provider:8080/api/representations/eb518d99-b799-4d79-b825-cf954eb55dce"
      }
     },
     "output_type": "display_data"
    },
    {
     "data": {
      "application/yaml": "https://provider:8080/api/representations/fbd5a17c-29ae-4bb9-be70-d20a4cc1c81d:\n  args:\n    consumer_url: https://consumer:8080\n    provider_url: https://provider:8080\n    representation: https://provider:8080/api/representations/fbd5a17c-29ae-4bb9-be70-d20a4cc1c81d\n    resource: https://provider:8080/api/offers/b2d3bfc0-357d-4d8c-ac31-b052b4c19da5\n  description: \"## \\n\\n\\nrepresentation: https://provider:8080/api/representations/fbd5a17c-29ae-4bb9-be70-d20a4cc1c81d\"\n  driver: intake_ids.connector_csv_source.ConnectorCSVSource\n  metadata:\n    catalog_dir: ''\n",
      "text/plain": [
       "https://provider:8080/api/representations/fbd5a17c-29ae-4bb9-be70-d20a4cc1c81d:\n",
       "  args:\n",
       "    consumer_url: https://consumer:8080\n",
       "    provider_url: https://provider:8080\n",
       "    representation: https://provider:8080/api/representations/fbd5a17c-29ae-4bb9-be70-d20a4cc1c81d\n",
       "    resource: https://provider:8080/api/offers/b2d3bfc0-357d-4d8c-ac31-b052b4c19da5\n",
       "  description: \"## \\n\\n\\nrepresentation: https://provider:8080/api/representations/fbd5a17c-29ae-4bb9-be70-d20a4cc1c81d\"\n",
       "  driver: intake_ids.connector_csv_source.ConnectorCSVSource\n",
       "  metadata:\n",
       "    catalog_dir: ''\n"
      ]
     },
     "metadata": {
      "application/json": {
       "root": "https://provider:8080/api/representations/fbd5a17c-29ae-4bb9-be70-d20a4cc1c81d"
      }
     },
     "output_type": "display_data"
    },
    {
     "data": {
      "application/yaml": "https://provider:8080/api/representations/e8065349-1086-4e8c-ba03-7e6894227a29:\n  args:\n    consumer_url: https://consumer:8080\n    provider_url: https://provider:8080\n    representation: https://provider:8080/api/representations/e8065349-1086-4e8c-ba03-7e6894227a29\n    resource: https://provider:8080/api/offers/0aa3fb2d-93eb-4630-8898-8ce56ff5bf07\n  description: \"## \\n\\n\\nrepresentation: https://provider:8080/api/representations/e8065349-1086-4e8c-ba03-7e6894227a29\"\n  driver: intake_ids.connector_csv_source.ConnectorCSVSource\n  metadata:\n    catalog_dir: ''\n",
      "text/plain": [
       "https://provider:8080/api/representations/e8065349-1086-4e8c-ba03-7e6894227a29:\n",
       "  args:\n",
       "    consumer_url: https://consumer:8080\n",
       "    provider_url: https://provider:8080\n",
       "    representation: https://provider:8080/api/representations/e8065349-1086-4e8c-ba03-7e6894227a29\n",
       "    resource: https://provider:8080/api/offers/0aa3fb2d-93eb-4630-8898-8ce56ff5bf07\n",
       "  description: \"## \\n\\n\\nrepresentation: https://provider:8080/api/representations/e8065349-1086-4e8c-ba03-7e6894227a29\"\n",
       "  driver: intake_ids.connector_csv_source.ConnectorCSVSource\n",
       "  metadata:\n",
       "    catalog_dir: ''\n"
      ]
     },
     "metadata": {
      "application/json": {
       "root": "https://provider:8080/api/representations/e8065349-1086-4e8c-ba03-7e6894227a29"
      }
     },
     "output_type": "display_data"
    },
    {
     "data": {
      "application/yaml": "https://provider:8080/api/representations/70a70d54-8b2f-4af8-92a5-a21027b276f7:\n  args:\n    consumer_url: https://consumer:8080\n    provider_url: https://provider:8080\n    representation: https://provider:8080/api/representations/70a70d54-8b2f-4af8-92a5-a21027b276f7\n    resource: https://provider:8080/api/offers/426279cf-02e4-42c8-8378-a5e222c92ee2\n  description: \"## \\n\\n\\nrepresentation: https://provider:8080/api/representations/70a70d54-8b2f-4af8-92a5-a21027b276f7\"\n  driver: intake_ids.connector_csv_source.ConnectorCSVSource\n  metadata:\n    catalog_dir: ''\n",
      "text/plain": [
       "https://provider:8080/api/representations/70a70d54-8b2f-4af8-92a5-a21027b276f7:\n",
       "  args:\n",
       "    consumer_url: https://consumer:8080\n",
       "    provider_url: https://provider:8080\n",
       "    representation: https://provider:8080/api/representations/70a70d54-8b2f-4af8-92a5-a21027b276f7\n",
       "    resource: https://provider:8080/api/offers/426279cf-02e4-42c8-8378-a5e222c92ee2\n",
       "  description: \"## \\n\\n\\nrepresentation: https://provider:8080/api/representations/70a70d54-8b2f-4af8-92a5-a21027b276f7\"\n",
       "  driver: intake_ids.connector_csv_source.ConnectorCSVSource\n",
       "  metadata:\n",
       "    catalog_dir: ''\n"
      ]
     },
     "metadata": {
      "application/json": {
       "root": "https://provider:8080/api/representations/70a70d54-8b2f-4af8-92a5-a21027b276f7"
      }
     },
     "output_type": "display_data"
    },
    {
     "data": {
      "application/yaml": "https://provider:8080/api/representations/af733683-cd12-4ca7-82c8-447755bad93e:\n  args:\n    consumer_url: https://consumer:8080\n    provider_url: https://provider:8080\n    representation: https://provider:8080/api/representations/af733683-cd12-4ca7-82c8-447755bad93e\n    resource: https://provider:8080/api/offers/d215095e-e8aa-4a63-b8f9-257731fdc1eb\n  description: \"## \\n\\n\\nrepresentation: https://provider:8080/api/representations/af733683-cd12-4ca7-82c8-447755bad93e\"\n  driver: intake_ids.connector_csv_source.ConnectorCSVSource\n  metadata:\n    catalog_dir: ''\n",
      "text/plain": [
       "https://provider:8080/api/representations/af733683-cd12-4ca7-82c8-447755bad93e:\n",
       "  args:\n",
       "    consumer_url: https://consumer:8080\n",
       "    provider_url: https://provider:8080\n",
       "    representation: https://provider:8080/api/representations/af733683-cd12-4ca7-82c8-447755bad93e\n",
       "    resource: https://provider:8080/api/offers/d215095e-e8aa-4a63-b8f9-257731fdc1eb\n",
       "  description: \"## \\n\\n\\nrepresentation: https://provider:8080/api/representations/af733683-cd12-4ca7-82c8-447755bad93e\"\n",
       "  driver: intake_ids.connector_csv_source.ConnectorCSVSource\n",
       "  metadata:\n",
       "    catalog_dir: ''\n"
      ]
     },
     "metadata": {
      "application/json": {
       "root": "https://provider:8080/api/representations/af733683-cd12-4ca7-82c8-447755bad93e"
      }
     },
     "output_type": "display_data"
    }
   ],
   "source": [
    "last_entry: any\n",
    "for entry_id, entry in catalog.items():\n",
    "    display(entry)\n",
    "    last_entry = entry"
   ]
  },
  {
   "cell_type": "code",
   "execution_count": 20,
   "metadata": {},
   "outputs": [
    {
     "data": {
      "text/html": [
       "<div>\n",
       "<style scoped>\n",
       "    .dataframe tbody tr th:only-of-type {\n",
       "        vertical-align: middle;\n",
       "    }\n",
       "\n",
       "    .dataframe tbody tr th {\n",
       "        vertical-align: top;\n",
       "    }\n",
       "\n",
       "    .dataframe thead th {\n",
       "        text-align: right;\n",
       "    }\n",
       "</style>\n",
       "<table border=\"1\" class=\"dataframe\">\n",
       "  <thead>\n",
       "    <tr style=\"text-align: right;\">\n",
       "      <th></th>\n",
       "      <th>number</th>\n",
       "      <th>title</th>\n",
       "    </tr>\n",
       "  </thead>\n",
       "  <tbody>\n",
       "    <tr>\n",
       "      <th>0</th>\n",
       "      <td>5</td>\n",
       "      <td>aaa</td>\n",
       "    </tr>\n",
       "    <tr>\n",
       "      <th>1</th>\n",
       "      <td>6</td>\n",
       "      <td>bbb</td>\n",
       "    </tr>\n",
       "    <tr>\n",
       "      <th>2</th>\n",
       "      <td>7</td>\n",
       "      <td>ccc</td>\n",
       "    </tr>\n",
       "  </tbody>\n",
       "</table>\n",
       "</div>"
      ],
      "text/plain": [
       "   number title\n",
       "0       5   aaa\n",
       "1       6   bbb\n",
       "2       7   ccc"
      ]
     },
     "execution_count": 20,
     "metadata": {},
     "output_type": "execute_result"
    }
   ],
   "source": [
    "last_entry.read()"
   ]
  }
 ],
 "metadata": {
  "kernelspec": {
   "display_name": "Python 3.10.5 64-bit ('INTAKEIDS')",
   "language": "python",
   "name": "python3"
  },
  "language_info": {
   "codemirror_mode": {
    "name": "ipython",
    "version": 3
   },
   "file_extension": ".py",
   "mimetype": "text/x-python",
   "name": "python",
   "nbconvert_exporter": "python",
   "pygments_lexer": "ipython3",
   "version": "3.10.5"
  },
  "orig_nbformat": 4,
  "vscode": {
   "interpreter": {
    "hash": "fb4beda5a4c69f137057243dbc2dc0588fffe352cba42b265875a1e8d9564f47"
   }
  }
 },
 "nbformat": 4,
 "nbformat_minor": 2
}
