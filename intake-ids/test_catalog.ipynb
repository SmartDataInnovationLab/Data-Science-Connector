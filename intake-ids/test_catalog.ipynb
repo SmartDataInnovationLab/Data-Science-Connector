{
 "cells": [
  {
   "cell_type": "code",
   "execution_count": 19,
   "metadata": {},
   "outputs": [
    {
     "data": {
      "application/yaml": "testcat:\n  args:\n    consumer_url: https://consumer:8080\n    name: testcat\n    provider_url: https://provider:8080\n  description: ''\n  driver: intake_ids.catalog.ConnectorCatalog\n  metadata: {}\n",
      "text/plain": [
       "testcat:\n",
       "  args:\n",
       "    consumer_url: https://consumer:8080\n",
       "    name: testcat\n",
       "    provider_url: https://provider:8080\n",
       "  description: ''\n",
       "  driver: intake_ids.catalog.ConnectorCatalog\n",
       "  metadata: {}\n"
      ]
     },
     "metadata": {
      "application/json": {
       "root": "testcat"
      }
     },
     "output_type": "display_data"
    }
   ],
   "source": [
    "from intake_ids import ConnectorCatalog\n",
    "\n",
    "# provider_url = \"https://provider:8080\"\n",
    "# consumer_url = \"https://consumer:8080\"\n",
    "provider_url = \"https://connectorb:8081\"\n",
    "consumer_url = \"https://connectora:8080\"\n",
    "\n",
    "catalog = ConnectorCatalog(provider_url=provider_url, consumer_url=consumer_url, name=\"testcat\")\n",
    "catalog"
   ]
  },
  {
   "cell_type": "code",
   "execution_count": 20,
   "metadata": {},
   "outputs": [
    {
     "data": {
      "text/plain": [
       "1"
      ]
     },
     "execution_count": 20,
     "metadata": {},
     "output_type": "execute_result"
    }
   ],
   "source": [
    "len(list(catalog))"
   ]
  },
  {
   "cell_type": "code",
   "execution_count": 21,
   "metadata": {},
   "outputs": [
    {
     "data": {
      "application/yaml": "https://provider:8080/api/representations/c768756e-d1a2-4cf8-9173-cffc6e86a328:\n  args:\n    ids_kwargs:\n      consumer_url: https://consumer:8080\n      provider_url: https://provider:8080\n      representation_url: https://provider:8080/api/representations/c768756e-d1a2-4cf8-9173-cffc6e86a328\n      resource_url: https://provider:8080/api/offers/42d9ae9c-d28c-4d31-b6b7-414f714ab25c\n  description: '\n\n    '\n  driver: intake_ids.connector_csv_source.ConnectorCSVSource\n  metadata:\n    catalog_dir: ''\n",
      "text/plain": [
       "https://provider:8080/api/representations/c768756e-d1a2-4cf8-9173-cffc6e86a328:\n",
       "  args:\n",
       "    ids_kwargs:\n",
       "      consumer_url: https://consumer:8080\n",
       "      provider_url: https://provider:8080\n",
       "      representation_url: https://provider:8080/api/representations/c768756e-d1a2-4cf8-9173-cffc6e86a328\n",
       "      resource_url: https://provider:8080/api/offers/42d9ae9c-d28c-4d31-b6b7-414f714ab25c\n",
       "  description: '\n",
       "\n",
       "    '\n",
       "  driver: intake_ids.connector_csv_source.ConnectorCSVSource\n",
       "  metadata:\n",
       "    catalog_dir: ''\n"
      ]
     },
     "metadata": {
      "application/json": {
       "root": "https://provider:8080/api/representations/c768756e-d1a2-4cf8-9173-cffc6e86a328"
      }
     },
     "output_type": "display_data"
    }
   ],
   "source": [
    "last_entry: any\n",
    "for entry_id, entry in catalog.items():\n",
    "    display(entry)\n",
    "    last_entry = entry"
   ]
  },
  {
   "cell_type": "code",
   "execution_count": 31,
   "metadata": {},
   "outputs": [
    {
     "data": {
      "text/plain": [
       "'New agreement'"
      ]
     },
     "metadata": {},
     "output_type": "display_data"
    },
    {
     "data": {
      "text/plain": [
       "'Clearing'"
      ]
     },
     "metadata": {},
     "output_type": "display_data"
    },
    {
     "data": {
      "text/plain": [
       "'We are NOT a cacheable artifact'"
      ]
     },
     "metadata": {},
     "output_type": "display_data"
    },
    {
     "name": "stdout",
     "output_type": "stream",
     "text": [
      "bypassed cache\n"
     ]
    },
    {
     "data": {
      "text/html": [
       "<div>\n",
       "<style scoped>\n",
       "    .dataframe tbody tr th:only-of-type {\n",
       "        vertical-align: middle;\n",
       "    }\n",
       "\n",
       "    .dataframe tbody tr th {\n",
       "        vertical-align: top;\n",
       "    }\n",
       "\n",
       "    .dataframe thead th {\n",
       "        text-align: right;\n",
       "    }\n",
       "</style>\n",
       "<table border=\"1\" class=\"dataframe\">\n",
       "  <thead>\n",
       "    <tr style=\"text-align: right;\">\n",
       "      <th></th>\n",
       "      <th>usage</th>\n",
       "      <th>during</th>\n",
       "    </tr>\n",
       "  </thead>\n",
       "  <tbody>\n",
       "    <tr>\n",
       "      <th>0</th>\n",
       "      <td>interval</td>\n",
       "      <td>interval</td>\n",
       "    </tr>\n",
       "    <tr>\n",
       "      <th>1</th>\n",
       "      <td>from now</td>\n",
       "      <td>for 30s</td>\n",
       "    </tr>\n",
       "  </tbody>\n",
       "</table>\n",
       "</div>"
      ],
      "text/plain": [
       "      usage     during\n",
       "0  interval   interval\n",
       "1  from now    for 30s"
      ]
     },
     "metadata": {},
     "output_type": "display_data"
    }
   ],
   "source": [
    "for chunk in last_entry.read_chunked(): display(chunk)"
   ]
  }
 ],
 "metadata": {
  "interpreter": {
   "hash": "fb4beda5a4c69f137057243dbc2dc0588fffe352cba42b265875a1e8d9564f47"
  },
  "kernelspec": {
   "display_name": "Python 3.10.5 64-bit ('INTAKEIDS')",
   "language": "python",
   "name": "python3"
  },
  "language_info": {
   "codemirror_mode": {
    "name": "ipython",
    "version": 3
   },
   "file_extension": ".py",
   "mimetype": "text/x-python",
   "name": "python",
   "nbconvert_exporter": "python",
   "pygments_lexer": "ipython3",
   "version": "3.10.5"
  },
  "orig_nbformat": 4,
  "vscode": {
   "interpreter": {
    "hash": "fb4beda5a4c69f137057243dbc2dc0588fffe352cba42b265875a1e8d9564f47"
   }
  }
 },
 "nbformat": 4,
 "nbformat_minor": 2
}
