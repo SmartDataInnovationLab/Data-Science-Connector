{
 "cells": [
  {
   "cell_type": "code",
   "execution_count": 1,
   "metadata": {},
   "outputs": [
    {
     "data": {
      "application/yaml": "testcat:\n  args:\n    consumer_url: https://consumer:8080\n    name: testcat\n    provider_url: https://provider:8080\n  description: ''\n  driver: intake_ids.catalog.ConnectorCatalog\n  metadata: {}\n",
      "text/plain": [
       "testcat:\n",
       "  args:\n",
       "    consumer_url: https://consumer:8080\n",
       "    name: testcat\n",
       "    provider_url: https://provider:8080\n",
       "  description: ''\n",
       "  driver: intake_ids.catalog.ConnectorCatalog\n",
       "  metadata: {}\n"
      ]
     },
     "metadata": {
      "application/json": {
       "root": "testcat"
      }
     },
     "output_type": "display_data"
    }
   ],
   "source": [
    "from intake_ids import ConnectorCatalog\n",
    "catalog = ConnectorCatalog(provider_url=\"https://provider:8080\", consumer_url=\"https://consumer:8080\", name=\"testcat\")\n",
    "catalog"
   ]
  },
  {
   "cell_type": "code",
   "execution_count": 2,
   "metadata": {},
   "outputs": [
    {
     "data": {
      "text/plain": [
       "2"
      ]
     },
     "execution_count": 2,
     "metadata": {},
     "output_type": "execute_result"
    }
   ],
   "source": [
    "len(list(catalog))"
   ]
  },
  {
   "cell_type": "code",
   "execution_count": 3,
   "metadata": {},
   "outputs": [
    {
     "data": {
      "application/yaml": "https://provider:8080/api/representations/27c96ef0-55d7-444b-993c-cee469815e76:\n  args:\n    ids_kwargs:\n      consumer_url: https://consumer:8080\n      provider_url: https://provider:8080\n      representation_url: https://provider:8080/api/representations/27c96ef0-55d7-444b-993c-cee469815e76\n      resource_url: https://provider:8080/api/offers/16a372c1-757b-4c85-b6c2-069dea54c750\n  description: '\n\n    '\n  driver: intake_ids.connector_csv_source.ConnectorCSVSource\n  metadata:\n    catalog_dir: ''\n",
      "text/plain": [
       "https://provider:8080/api/representations/27c96ef0-55d7-444b-993c-cee469815e76:\n",
       "  args:\n",
       "    ids_kwargs:\n",
       "      consumer_url: https://consumer:8080\n",
       "      provider_url: https://provider:8080\n",
       "      representation_url: https://provider:8080/api/representations/27c96ef0-55d7-444b-993c-cee469815e76\n",
       "      resource_url: https://provider:8080/api/offers/16a372c1-757b-4c85-b6c2-069dea54c750\n",
       "  description: '\n",
       "\n",
       "    '\n",
       "  driver: intake_ids.connector_csv_source.ConnectorCSVSource\n",
       "  metadata:\n",
       "    catalog_dir: ''\n"
      ]
     },
     "metadata": {
      "application/json": {
       "root": "https://provider:8080/api/representations/27c96ef0-55d7-444b-993c-cee469815e76"
      }
     },
     "output_type": "display_data"
    },
    {
     "data": {
      "application/yaml": "https://provider:8080/api/representations/a08f6e03-ee88-4234-b61f-57829f025ecf:\n  args:\n    ids_kwargs:\n      consumer_url: https://consumer:8080\n      provider_url: https://provider:8080\n      representation_url: https://provider:8080/api/representations/a08f6e03-ee88-4234-b61f-57829f025ecf\n      resource_url: https://provider:8080/api/offers/3af27f9f-4954-485b-a0bf-c9bb7b4ebf8f\n  description: '\n\n    '\n  driver: intake_ids.connector_csv_source.ConnectorCSVSource\n  metadata:\n    catalog_dir: ''\n",
      "text/plain": [
       "https://provider:8080/api/representations/a08f6e03-ee88-4234-b61f-57829f025ecf:\n",
       "  args:\n",
       "    ids_kwargs:\n",
       "      consumer_url: https://consumer:8080\n",
       "      provider_url: https://provider:8080\n",
       "      representation_url: https://provider:8080/api/representations/a08f6e03-ee88-4234-b61f-57829f025ecf\n",
       "      resource_url: https://provider:8080/api/offers/3af27f9f-4954-485b-a0bf-c9bb7b4ebf8f\n",
       "  description: '\n",
       "\n",
       "    '\n",
       "  driver: intake_ids.connector_csv_source.ConnectorCSVSource\n",
       "  metadata:\n",
       "    catalog_dir: ''\n"
      ]
     },
     "metadata": {
      "application/json": {
       "root": "https://provider:8080/api/representations/a08f6e03-ee88-4234-b61f-57829f025ecf"
      }
     },
     "output_type": "display_data"
    }
   ],
   "source": [
    "last_entry: any\n",
    "for entry_id, entry in catalog.items():\n",
    "    display(entry)\n",
    "    last_entry = entry"
   ]
  },
  {
   "cell_type": "code",
   "execution_count": 4,
   "metadata": {},
   "outputs": [
    {
     "data": {
      "text/plain": [
       "'checking contract validity'"
      ]
     },
     "metadata": {},
     "output_type": "display_data"
    },
    {
     "data": {
      "text/plain": [
       "Contract(id='https://provider:8080/api/agreements/e8a56389-057f-4c11-8319-efbdcdcfb7af', type='ids:ContractAgreement', contract_start=TypedLiteral[datetime](type='http://www.w3.org/2001/XMLSchema#dateTimeStamp', value=datetime.datetime(2022, 9, 4, 16, 25, 48, 157000, tzinfo=datetime.timezone.utc)), contract_end=TypedLiteral[datetime](type='http://www.w3.org/2001/XMLSchema#dateTimeStamp', value=datetime.datetime(2022, 12, 6, 11, 33, 44, 995000, tzinfo=datetime.timezone.utc)), contract_date=TypedLiteral[datetime](type='http://www.w3.org/2001/XMLSchema#dateTimeStamp', value=datetime.datetime(2022, 9, 4, 16, 25, 48, 156000, tzinfo=datetime.timezone.utc)), permission=[], prohibition=[Prohibition(id='https://provider:8080/api/rules/be4ea78c-1d12-41e2-a352-52618f420a67', type='ids:Prohibition', title=[TypedLiteral[str](type='http://www.w3.org/2001/XMLSchema#string', value='prohibtitle')], description=[TypedLiteral[str](type='http://www.w3.org/2001/XMLSchema#string', value='prohibdesc')], constraint=[], action=[Action(id='https://w3id.org/idsa/code/USE', type=None)])])"
      ]
     },
     "metadata": {},
     "output_type": "display_data"
    },
    {
     "name": "stdout",
     "output_type": "stream",
     "text": [
      "bypassed cache\n"
     ]
    },
    {
     "ename": "HTTPError",
     "evalue": "403 Client Error:  for url: https://consumer:8080/api/artifacts/53566551-fdc6-47ea-8e6b-844723d2262d/data",
     "output_type": "error",
     "traceback": [
      "\u001b[0;31m---------------------------------------------------------------------------\u001b[0m",
      "\u001b[0;31mHTTPError\u001b[0m                                 Traceback (most recent call last)",
      "\u001b[1;32m/home/omer/ids/BA/intake-ids/test_catalog.ipynb Cell 4'\u001b[0m in \u001b[0;36m<cell line: 1>\u001b[0;34m()\u001b[0m\n\u001b[0;32m----> <a href='vscode-notebook-cell://ssh-remote%2Boakleaf.duckdns.org/home/omer/ids/BA/intake-ids/test_catalog.ipynb#ch0000003vscode-remote?line=0'>1</a>\u001b[0m \u001b[39mfor\u001b[39;00m chunk \u001b[39min\u001b[39;00m last_entry\u001b[39m.\u001b[39mread_chunked(): display(chunk)\n",
      "File \u001b[0;32m~/.pyenv/versions/3.10.5/envs/INTAKEIDS/lib/python3.10/site-packages/intake/source/base.py:316\u001b[0m, in \u001b[0;36mDataSourceBase.read_chunked\u001b[0;34m(self)\u001b[0m\n\u001b[1;32m    <a href='file:///home/omer/.pyenv/versions/3.10.5/envs/INTAKEIDS/lib/python3.10/site-packages/intake/source/base.py?line=313'>314</a>\u001b[0m \u001b[39mself\u001b[39m\u001b[39m.\u001b[39m_load_metadata()\n\u001b[1;32m    <a href='file:///home/omer/.pyenv/versions/3.10.5/envs/INTAKEIDS/lib/python3.10/site-packages/intake/source/base.py?line=314'>315</a>\u001b[0m \u001b[39mfor\u001b[39;00m i \u001b[39min\u001b[39;00m \u001b[39mrange\u001b[39m(\u001b[39mself\u001b[39m\u001b[39m.\u001b[39mnpartitions):\n\u001b[0;32m--> <a href='file:///home/omer/.pyenv/versions/3.10.5/envs/INTAKEIDS/lib/python3.10/site-packages/intake/source/base.py?line=315'>316</a>\u001b[0m     \u001b[39myield\u001b[39;00m \u001b[39mself\u001b[39;49m\u001b[39m.\u001b[39;49m_get_partition(i)\n",
      "File \u001b[0;32m~/ids/BA/intake-ids/intake_ids/connector_csv_source.py:31\u001b[0m, in \u001b[0;36mConnectorCSVSource._get_partition\u001b[0;34m(self, i)\u001b[0m\n\u001b[1;32m     <a href='file:///home/omer/ids/BA/intake-ids/intake_ids/connector_csv_source.py?line=28'>29</a>\u001b[0m     \u001b[39mreturn\u001b[39;00m pd\u001b[39m.\u001b[39mread_csv(modal\u001b[39m.\u001b[39mfilename())\n\u001b[1;32m     <a href='file:///home/omer/ids/BA/intake-ids/intake_ids/connector_csv_source.py?line=29'>30</a>\u001b[0m \u001b[39melif\u001b[39;00m modal\u001b[39m.\u001b[39mcan_inmemory:\n\u001b[0;32m---> <a href='file:///home/omer/ids/BA/intake-ids/intake_ids/connector_csv_source.py?line=30'>31</a>\u001b[0m     \u001b[39mreturn\u001b[39;00m pd\u001b[39m.\u001b[39mread_csv(StringIO(modal\u001b[39m.\u001b[39;49minmemory()\u001b[39m.\u001b[39mdecode(\u001b[39m'\u001b[39m\u001b[39mutf-8\u001b[39m\u001b[39m'\u001b[39m)))\n\u001b[1;32m     <a href='file:///home/omer/ids/BA/intake-ids/intake_ids/connector_csv_source.py?line=31'>32</a>\u001b[0m \u001b[39melse\u001b[39;00m:\n\u001b[1;32m     <a href='file:///home/omer/ids/BA/intake-ids/intake_ids/connector_csv_source.py?line=32'>33</a>\u001b[0m     \u001b[39mraise\u001b[39;00m \u001b[39mValueError\u001b[39;00m(\u001b[39m'\u001b[39m\u001b[39mCan\u001b[39m\u001b[39m\\'\u001b[39;00m\u001b[39mt access partition\u001b[39m\u001b[39m'\u001b[39m)\n",
      "File \u001b[0;32m~/ids/BA/intake-ids/intake_ids/connector_controller.py:112\u001b[0m, in \u001b[0;36mAccessModality.inmemory\u001b[0;34m(self)\u001b[0m\n\u001b[1;32m    <a href='file:///home/omer/ids/BA/intake-ids/intake_ids/connector_controller.py?line=109'>110</a>\u001b[0m \u001b[39mprint\u001b[39m(\u001b[39m'\u001b[39m\u001b[39mbypassed cache\u001b[39m\u001b[39m'\u001b[39m)\n\u001b[1;32m    <a href='file:///home/omer/ids/BA/intake-ids/intake_ids/connector_controller.py?line=110'>111</a>\u001b[0m r \u001b[39m=\u001b[39m \u001b[39mself\u001b[39m\u001b[39m.\u001b[39m_controller\u001b[39m.\u001b[39mconsumerResources\u001b[39m.\u001b[39mget_data(\u001b[39mself\u001b[39m\u001b[39m.\u001b[39m_artifact_id)\n\u001b[0;32m--> <a href='file:///home/omer/ids/BA/intake-ids/intake_ids/connector_controller.py?line=111'>112</a>\u001b[0m r\u001b[39m.\u001b[39;49mraise_for_status()\n\u001b[1;32m    <a href='file:///home/omer/ids/BA/intake-ids/intake_ids/connector_controller.py?line=112'>113</a>\u001b[0m \u001b[39mreturn\u001b[39;00m r\u001b[39m.\u001b[39mcontent\n",
      "File \u001b[0;32m~/.pyenv/versions/3.10.5/envs/INTAKEIDS/lib/python3.10/site-packages/requests/models.py:1021\u001b[0m, in \u001b[0;36mResponse.raise_for_status\u001b[0;34m(self)\u001b[0m\n\u001b[1;32m   <a href='file:///home/omer/.pyenv/versions/3.10.5/envs/INTAKEIDS/lib/python3.10/site-packages/requests/models.py?line=1015'>1016</a>\u001b[0m     http_error_msg \u001b[39m=\u001b[39m (\n\u001b[1;32m   <a href='file:///home/omer/.pyenv/versions/3.10.5/envs/INTAKEIDS/lib/python3.10/site-packages/requests/models.py?line=1016'>1017</a>\u001b[0m         \u001b[39mf\u001b[39m\u001b[39m\"\u001b[39m\u001b[39m{\u001b[39;00m\u001b[39mself\u001b[39m\u001b[39m.\u001b[39mstatus_code\u001b[39m}\u001b[39;00m\u001b[39m Server Error: \u001b[39m\u001b[39m{\u001b[39;00mreason\u001b[39m}\u001b[39;00m\u001b[39m for url: \u001b[39m\u001b[39m{\u001b[39;00m\u001b[39mself\u001b[39m\u001b[39m.\u001b[39murl\u001b[39m}\u001b[39;00m\u001b[39m\"\u001b[39m\n\u001b[1;32m   <a href='file:///home/omer/.pyenv/versions/3.10.5/envs/INTAKEIDS/lib/python3.10/site-packages/requests/models.py?line=1017'>1018</a>\u001b[0m     )\n\u001b[1;32m   <a href='file:///home/omer/.pyenv/versions/3.10.5/envs/INTAKEIDS/lib/python3.10/site-packages/requests/models.py?line=1019'>1020</a>\u001b[0m \u001b[39mif\u001b[39;00m http_error_msg:\n\u001b[0;32m-> <a href='file:///home/omer/.pyenv/versions/3.10.5/envs/INTAKEIDS/lib/python3.10/site-packages/requests/models.py?line=1020'>1021</a>\u001b[0m     \u001b[39mraise\u001b[39;00m HTTPError(http_error_msg, response\u001b[39m=\u001b[39m\u001b[39mself\u001b[39m)\n",
      "\u001b[0;31mHTTPError\u001b[0m: 403 Client Error:  for url: https://consumer:8080/api/artifacts/53566551-fdc6-47ea-8e6b-844723d2262d/data"
     ]
    }
   ],
   "source": [
    "for chunk in last_entry.read_chunked(): display(chunk)"
   ]
  }
 ],
 "metadata": {
  "interpreter": {
   "hash": "fb4beda5a4c69f137057243dbc2dc0588fffe352cba42b265875a1e8d9564f47"
  },
  "kernelspec": {
   "display_name": "Python 3.10.5 64-bit ('INTAKEIDS')",
   "language": "python",
   "name": "python3"
  },
  "language_info": {
   "codemirror_mode": {
    "name": "ipython",
    "version": 3
   },
   "file_extension": ".py",
   "mimetype": "text/x-python",
   "name": "python",
   "nbconvert_exporter": "python",
   "pygments_lexer": "ipython3",
   "version": "3.10.5"
  },
  "orig_nbformat": 4,
  "vscode": {
   "interpreter": {
    "hash": "fb4beda5a4c69f137057243dbc2dc0588fffe352cba42b265875a1e8d9564f47"
   }
  }
 },
 "nbformat": 4,
 "nbformat_minor": 2
}
