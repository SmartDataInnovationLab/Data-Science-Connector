{
 "cells": [
  {
   "cell_type": "code",
   "execution_count": 7,
   "metadata": {},
   "outputs": [
    {
     "data": {
      "application/yaml": "testcat:\n  args:\n    consumer_url: https://connectora:8080\n    name: testcat\n    provider_url: https://connectorb:8081\n  description: ''\n  driver: intake_ids.catalog.ConnectorCatalog\n  metadata: {}\n",
      "text/plain": [
       "testcat:\n",
       "  args:\n",
       "    consumer_url: https://connectora:8080\n",
       "    name: testcat\n",
       "    provider_url: https://connectorb:8081\n",
       "  description: ''\n",
       "  driver: intake_ids.catalog.ConnectorCatalog\n",
       "  metadata: {}\n"
      ]
     },
     "metadata": {
      "application/json": {
       "root": "testcat"
      }
     },
     "output_type": "display_data"
    }
   ],
   "source": [
    "from intake_ids import ConnectorCatalog\n",
    "\n",
    "# provider_url = \"https://provider:8080\"\n",
    "# consumer_url = \"https://consumer:8080\"\n",
    "provider_url = \"https://connectorb:8081\"\n",
    "consumer_url = \"https://connectora:8080\"\n",
    "\n",
    "catalog = ConnectorCatalog(provider_url=provider_url, consumer_url=consumer_url, name=\"testcat\")\n",
    "catalog"
   ]
  },
  {
   "cell_type": "code",
   "execution_count": 8,
   "metadata": {},
   "outputs": [
    {
     "data": {
      "text/plain": [
       "11"
      ]
     },
     "execution_count": 8,
     "metadata": {},
     "output_type": "execute_result"
    }
   ],
   "source": [
    "len(list(catalog))"
   ]
  },
  {
   "cell_type": "code",
   "execution_count": 9,
   "metadata": {},
   "outputs": [],
   "source": [
    "last_entry: any\n",
    "for entry_id, entry in catalog.items():\n",
    "    # display(entry)\n",
    "    last_entry = entry"
   ]
  },
  {
   "cell_type": "code",
   "execution_count": 10,
   "metadata": {},
   "outputs": [
    {
     "name": "stdout",
     "output_type": "stream",
     "text": [
      "streaming to cache\n"
     ]
    },
    {
     "data": {
      "text/html": [
       "<div>\n",
       "<style scoped>\n",
       "    .dataframe tbody tr th:only-of-type {\n",
       "        vertical-align: middle;\n",
       "    }\n",
       "\n",
       "    .dataframe tbody tr th {\n",
       "        vertical-align: top;\n",
       "    }\n",
       "\n",
       "    .dataframe thead th {\n",
       "        text-align: right;\n",
       "    }\n",
       "</style>\n",
       "<table border=\"1\" class=\"dataframe\">\n",
       "  <thead>\n",
       "    <tr style=\"text-align: right;\">\n",
       "      <th></th>\n",
       "      <th>this</th>\n",
       "      <th>table</th>\n",
       "      <th>goes</th>\n",
       "      <th>after</th>\n",
       "    </tr>\n",
       "  </thead>\n",
       "  <tbody>\n",
       "    <tr>\n",
       "      <th>0</th>\n",
       "      <td>30</td>\n",
       "      <td>thirty</td>\n",
       "      <td>dreißig</td>\n",
       "      <td>otuz</td>\n",
       "    </tr>\n",
       "    <tr>\n",
       "      <th>1</th>\n",
       "      <td>seconds</td>\n",
       "      <td>seconds</td>\n",
       "      <td>seconds</td>\n",
       "      <td>seconds</td>\n",
       "    </tr>\n",
       "  </tbody>\n",
       "</table>\n",
       "</div>"
      ],
      "text/plain": [
       "      this     table      goes     after\n",
       "0       30    thirty   dreißig      otuz\n",
       "1  seconds   seconds   seconds   seconds"
      ]
     },
     "metadata": {},
     "output_type": "display_data"
    }
   ],
   "source": [
    "for chunk in last_entry.read_chunked(): display(chunk)"
   ]
  }
 ],
 "metadata": {
  "interpreter": {
   "hash": "fb4beda5a4c69f137057243dbc2dc0588fffe352cba42b265875a1e8d9564f47"
  },
  "kernelspec": {
   "display_name": "Python 3.10.5 64-bit ('INTAKEIDS')",
   "language": "python",
   "name": "python3"
  },
  "language_info": {
   "codemirror_mode": {
    "name": "ipython",
    "version": 3
   },
   "file_extension": ".py",
   "mimetype": "text/x-python",
   "name": "python",
   "nbconvert_exporter": "python",
   "pygments_lexer": "ipython3",
   "version": "3.10.5"
  },
  "orig_nbformat": 4,
  "vscode": {
   "interpreter": {
    "hash": "fb4beda5a4c69f137057243dbc2dc0588fffe352cba42b265875a1e8d9564f47"
   }
  }
 },
 "nbformat": 4,
 "nbformat_minor": 2
}
