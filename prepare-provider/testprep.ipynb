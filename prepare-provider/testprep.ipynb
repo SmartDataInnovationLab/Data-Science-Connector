{
 "cells": [
  {
   "cell_type": "code",
   "execution_count": 16,
   "metadata": {},
   "outputs": [],
   "source": [
    "from scripts.resourceapi import ResourceApi\n",
    "from scripts.idsapi import IdsApi\n",
    "import pprint\n",
    "import sys\n",
    "\n",
    "pp = pprint.pp\n",
    "\n",
    "provider_url = \"https://provider:8080\"\n",
    "consumer_url = \"https://consumer:8080\"\n",
    "\n",
    "provider = ResourceApi(provider_url)"
   ]
  },
  {
   "cell_type": "code",
   "execution_count": 17,
   "metadata": {},
   "outputs": [
    {
     "name": "stdout",
     "output_type": "stream",
     "text": [
      "Created provider resources\n",
      "resource https://provider:8080/api/offers/98d514f1-90d1-45a0-86fa-ce2530b504ea\n",
      "repr https://provider:8080/api/representations/4c5bc876-840b-4ef0-b342-ba992582c3f3\n",
      "artifact https://provider:8080/api/artifacts/22cb68a1-def3-4948-83e7-12ba17343f15\n"
     ]
    }
   ],
   "source": [
    "dataValue = \"5,aaa\\n6,bbb\\n7,ccc\\n\"\n",
    "catalog = provider.create_catalog()\n",
    "offers = provider.create_offered_resource()\n",
    "representation = provider.create_representation(data={\n",
    "    \"dtypes\": \"{\\\"number\\\": \\\"int\\\", \\\"title\\\": \\\"str\\\"}\",\n",
    "    \"mediaType\": \"text/csv\"\n",
    "})\n",
    "artifact = provider.create_artifact(data={\"value\": dataValue})\n",
    "contract = provider.create_contract()\n",
    "use_rule = provider.create_rule()\n",
    "\n",
    "## Link resources\n",
    "provider.add_resource_to_catalog(catalog, offers)\n",
    "provider.add_representation_to_resource(offers, representation)\n",
    "provider.add_artifact_to_representation(representation, artifact)\n",
    "provider.add_contract_to_resource(offers, contract)\n",
    "provider.add_rule_to_contract(contract, use_rule)\n",
    "\n",
    "print(\"Created provider resources\")\n",
    "print(\"resource\", offers)\n",
    "print(\"repr\", representation)\n",
    "print(\"artifact\", artifact)"
   ]
  },
  {
   "cell_type": "code",
   "execution_count": 18,
   "metadata": {},
   "outputs": [],
   "source": [
    "consumer = IdsApi(consumer_url)"
   ]
  },
  {
   "cell_type": "code",
   "execution_count": 19,
   "metadata": {},
   "outputs": [
    {
     "data": {
      "text/plain": [
       "[{'@type': 'ids:ResourceCatalog',\n",
       "  '@id': 'https://provider:8080/api/catalogs/e8c25880-ee8f-49a4-aafc-7df9bb2f0eb5'},\n",
       " {'@type': 'ids:ResourceCatalog',\n",
       "  '@id': 'https://provider:8080/api/catalogs/7b201dda-99c6-4384-9b7b-13d889a71e87'},\n",
       " {'@type': 'ids:ResourceCatalog',\n",
       "  '@id': 'https://provider:8080/api/catalogs/91d7034d-5e25-4048-a111-f818a980f979'},\n",
       " {'@type': 'ids:ResourceCatalog',\n",
       "  '@id': 'https://provider:8080/api/catalogs/3e36d995-5b08-46ce-8042-7c0235c6fe47'},\n",
       " {'@type': 'ids:ResourceCatalog',\n",
       "  '@id': 'https://provider:8080/api/catalogs/3364fe62-f3ab-4ea9-832d-313a2975435b'},\n",
       " {'@type': 'ids:ResourceCatalog',\n",
       "  '@id': 'https://provider:8080/api/catalogs/05f9b99d-affb-4eb0-98dd-d05e239df310'},\n",
       " {'@type': 'ids:ResourceCatalog',\n",
       "  '@id': 'https://provider:8080/api/catalogs/aa5fc988-479a-43a6-b9b4-7e4c32b2912b'},\n",
       " {'@type': 'ids:ResourceCatalog',\n",
       "  '@id': 'https://provider:8080/api/catalogs/1dafe9f1-4b8c-47f6-9deb-0e3fb62de97e'},\n",
       " {'@type': 'ids:ResourceCatalog',\n",
       "  '@id': 'https://provider:8080/api/catalogs/6a1ba043-cc0a-41e2-8d23-5995c885e43c'}]"
      ]
     },
     "execution_count": 19,
     "metadata": {},
     "output_type": "execute_result"
    }
   ],
   "source": [
    "con = consumer.descriptionRequest(provider_url + \"/api/ids/data\")\n",
    "#pp(con)\n",
    "con['ids:resourceCatalog']"
   ]
  },
  {
   "cell_type": "code",
   "execution_count": 20,
   "metadata": {},
   "outputs": [
    {
     "name": "stdout",
     "output_type": "stream",
     "text": [
      "{'@context': {'ids': 'https://w3id.org/idsa/core/',\n",
      "              'idsc': 'https://w3id.org/idsa/code/'},\n",
      " '@type': 'ids:ResourceCatalog',\n",
      " '@id': 'https://provider:8080/api/catalogs/7b201dda-99c6-4384-9b7b-13d889a71e87',\n",
      " 'ids:offeredResource': [{'@type': 'ids:Resource',\n",
      "                          '@id': 'https://provider:8080/api/offers/98d514f1-90d1-45a0-86fa-ce2530b504ea',\n",
      "                          'ids:version': '1',\n",
      "                          'ids:description': [{'@value': '',\n",
      "                                               '@language': 'EN'}],\n",
      "                          'ids:language': [{'@id': 'https://w3id.org/idsa/code/EN'}],\n",
      "                          'ids:title': [{'@value': '', '@language': 'EN'}],\n",
      "                          'ids:representation': [{'@type': 'ids:Representation',\n",
      "                                                  '@id': 'https://provider:8080/api/representations/4c5bc876-840b-4ef0-b342-ba992582c3f3',\n",
      "                                                  'ids:mediaType': {'@type': 'ids:IANAMediaType',\n",
      "                                                                    '@id': 'https://w3id.org/idsa/autogen/iANAMediaType/c71337ca-c450-424e-a3bf-a795c15d5554',\n",
      "                                                                    'ids:filenameExtension': 'text/csv'},\n",
      "                                                  'ids:instance': [{'@type': 'ids:Artifact',\n",
      "                                                                    '@id': 'https://provider:8080/api/artifacts/22cb68a1-def3-4948-83e7-12ba17343f15',\n",
      "                                                                    'ids:creationDate': {'@value': '2022-08-02T23:48:53.502Z',\n",
      "                                                                                         '@type': 'http://www.w3.org/2001/XMLSchema#dateTimeStamp'},\n",
      "                                                                    'ids:byteSize': 18,\n",
      "                                                                    'ids:checkSum': '370723025'}],\n",
      "                                                  'ids:language': {'@id': 'https://w3id.org/idsa/code/EN'},\n",
      "                                                  'ids:created': {'@value': '2022-08-02T23:48:53.441Z',\n",
      "                                                                  '@type': 'http://www.w3.org/2001/XMLSchema#dateTimeStamp'},\n",
      "                                                  'ids:modified': {'@value': '2022-08-02T23:48:53.441Z',\n",
      "                                                                   '@type': 'http://www.w3.org/2001/XMLSchema#dateTimeStamp'},\n",
      "                                                  'ids:representationStandard': {'@id': ''},\n",
      "                                                  'dtypes': '{\"number\": \"int\", '\n",
      "                                                            '\"title\": \"str\"}'}],\n",
      "                          'ids:publisher': {'@id': ''},\n",
      "                          'ids:sovereign': {'@id': ''},\n",
      "                          'ids:created': {'@value': '2022-08-02T23:48:53.371Z',\n",
      "                                          '@type': 'http://www.w3.org/2001/XMLSchema#dateTimeStamp'},\n",
      "                          'ids:standardLicense': {'@id': ''},\n",
      "                          'ids:resourceEndpoint': [{'@type': 'ids:ConnectorEndpoint',\n",
      "                                                    '@id': 'https://w3id.org/idsa/autogen/connectorEndpoint/9500d25e-b447-4a83-b7dc-c8e8568a1390',\n",
      "                                                    'ids:endpointDocumentation': [{'@id': ''}],\n",
      "                                                    'ids:accessURL': {'@id': 'https://provider:8080/api/offers/98d514f1-90d1-45a0-86fa-ce2530b504ea'}}],\n",
      "                          'ids:contractOffer': [{'@type': 'ids:ContractOffer',\n",
      "                                                 '@id': 'https://provider:8080/api/contracts/f3845bf3-e6b9-47f9-a7fd-4320bec8aaf5',\n",
      "                                                 'ids:provider': {'@id': ''},\n",
      "                                                 'ids:permission': [{'@type': 'ids:Permission',\n",
      "                                                                     '@id': 'https://provider:8080/api/rules/b96bd8ea-f885-4075-b84d-ed0a03af7c1b',\n",
      "                                                                     'ids:description': [{'@value': 'provide-access',\n",
      "                                                                                          '@type': 'http://www.w3.org/2001/XMLSchema#string'}],\n",
      "                                                                     'ids:title': [{'@value': 'Example '\n",
      "                                                                                              'Usage '\n",
      "                                                                                              'Policy',\n",
      "                                                                                    '@type': 'http://www.w3.org/2001/XMLSchema#string'}],\n",
      "                                                                     'ids:action': [{'@id': 'https://w3id.org/idsa/code/USE'}]}],\n",
      "                                                 'ids:contractEnd': {'@value': '2022-12-06T11:33:44.995Z',\n",
      "                                                                     '@type': 'http://www.w3.org/2001/XMLSchema#dateTimeStamp'},\n",
      "                                                 'ids:consumer': {'@id': ''},\n",
      "                                                 'ids:contractStart': {'@value': '2021-04-06T11:33:44.995Z',\n",
      "                                                                       '@type': 'http://www.w3.org/2001/XMLSchema#dateTimeStamp'},\n",
      "                                                 'ids:contractDate': {'@value': '2022-08-02T23:48:54.356Z',\n",
      "                                                                      '@type': 'http://www.w3.org/2001/XMLSchema#dateTimeStamp'}}],\n",
      "                          'ids:keyword': [{'@value': 'DSC', '@language': 'EN'}],\n",
      "                          'ids:modified': {'@value': '2022-08-02T23:48:53.371Z',\n",
      "                                           '@type': 'http://www.w3.org/2001/XMLSchema#dateTimeStamp'}}]}\n"
     ]
    }
   ],
   "source": [
    "rescat = consumer.descriptionRequest(provider_url + \"/api/ids/data\", elementId=catalog)\n",
    "pp(rescat)"
   ]
  },
  {
   "cell_type": "code",
   "execution_count": 21,
   "metadata": {},
   "outputs": [
    {
     "name": "stdout",
     "output_type": "stream",
     "text": [
      "{'@context': {'ids': 'https://w3id.org/idsa/core/',\n",
      "              'idsc': 'https://w3id.org/idsa/code/'},\n",
      " '@type': 'ids:Resource',\n",
      " '@id': 'https://provider:8080/api/offers/98d514f1-90d1-45a0-86fa-ce2530b504ea',\n",
      " 'ids:version': '1',\n",
      " 'ids:description': [{'@value': '', '@language': 'EN'}],\n",
      " 'ids:language': [{'@id': 'https://w3id.org/idsa/code/EN'}],\n",
      " 'ids:title': [{'@value': '', '@language': 'EN'}],\n",
      " 'ids:representation': [{'@type': 'ids:Representation',\n",
      "                         '@id': 'https://provider:8080/api/representations/4c5bc876-840b-4ef0-b342-ba992582c3f3',\n",
      "                         'ids:mediaType': {'@type': 'ids:IANAMediaType',\n",
      "                                           '@id': 'https://w3id.org/idsa/autogen/iANAMediaType/c18721a1-e2ce-4374-b5d3-257eb15d3e71',\n",
      "                                           'ids:filenameExtension': 'text/csv'},\n",
      "                         'ids:instance': [{'@type': 'ids:Artifact',\n",
      "                                           '@id': 'https://provider:8080/api/artifacts/22cb68a1-def3-4948-83e7-12ba17343f15',\n",
      "                                           'ids:creationDate': {'@value': '2022-08-02T23:48:53.502Z',\n",
      "                                                                '@type': 'http://www.w3.org/2001/XMLSchema#dateTimeStamp'},\n",
      "                                           'ids:byteSize': 18,\n",
      "                                           'ids:checkSum': '370723025'}],\n",
      "                         'ids:language': {'@id': 'https://w3id.org/idsa/code/EN'},\n",
      "                         'ids:created': {'@value': '2022-08-02T23:48:53.441Z',\n",
      "                                         '@type': 'http://www.w3.org/2001/XMLSchema#dateTimeStamp'},\n",
      "                         'ids:modified': {'@value': '2022-08-02T23:48:53.441Z',\n",
      "                                          '@type': 'http://www.w3.org/2001/XMLSchema#dateTimeStamp'},\n",
      "                         'ids:representationStandard': {'@id': ''},\n",
      "                         'dtypes': '{\"number\": \"int\", \"title\": \"str\"}'}],\n",
      " 'ids:publisher': {'@id': ''},\n",
      " 'ids:sovereign': {'@id': ''},\n",
      " 'ids:created': {'@value': '2022-08-02T23:48:53.371Z',\n",
      "                 '@type': 'http://www.w3.org/2001/XMLSchema#dateTimeStamp'},\n",
      " 'ids:standardLicense': {'@id': ''},\n",
      " 'ids:resourceEndpoint': [{'@type': 'ids:ConnectorEndpoint',\n",
      "                           '@id': 'https://w3id.org/idsa/autogen/connectorEndpoint/00557e3d-98c5-46a8-b9d6-0c07712b32a1',\n",
      "                           'ids:endpointDocumentation': [{'@id': ''}],\n",
      "                           'ids:accessURL': {'@id': 'https://provider:8080/api/offers/98d514f1-90d1-45a0-86fa-ce2530b504ea'}}],\n",
      " 'ids:contractOffer': [{'@type': 'ids:ContractOffer',\n",
      "                        '@id': 'https://provider:8080/api/contracts/f3845bf3-e6b9-47f9-a7fd-4320bec8aaf5',\n",
      "                        'ids:provider': {'@id': ''},\n",
      "                        'ids:permission': [{'@type': 'ids:Permission',\n",
      "                                            '@id': 'https://provider:8080/api/rules/b96bd8ea-f885-4075-b84d-ed0a03af7c1b',\n",
      "                                            'ids:description': [{'@value': 'provide-access',\n",
      "                                                                 '@type': 'http://www.w3.org/2001/XMLSchema#string'}],\n",
      "                                            'ids:title': [{'@value': 'Example '\n",
      "                                                                     'Usage '\n",
      "                                                                     'Policy',\n",
      "                                                           '@type': 'http://www.w3.org/2001/XMLSchema#string'}],\n",
      "                                            'ids:action': [{'@id': 'https://w3id.org/idsa/code/USE'}]}],\n",
      "                        'ids:contractEnd': {'@value': '2022-12-06T11:33:44.995Z',\n",
      "                                            '@type': 'http://www.w3.org/2001/XMLSchema#dateTimeStamp'},\n",
      "                        'ids:consumer': {'@id': ''},\n",
      "                        'ids:contractStart': {'@value': '2021-04-06T11:33:44.995Z',\n",
      "                                              '@type': 'http://www.w3.org/2001/XMLSchema#dateTimeStamp'},\n",
      "                        'ids:contractDate': {'@value': '2022-08-02T23:48:54.530Z',\n",
      "                                             '@type': 'http://www.w3.org/2001/XMLSchema#dateTimeStamp'}}],\n",
      " 'ids:keyword': [{'@value': 'DSC', '@language': 'EN'}],\n",
      " 'ids:modified': {'@value': '2022-08-02T23:48:53.371Z',\n",
      "                  '@type': 'http://www.w3.org/2001/XMLSchema#dateTimeStamp'}}\n"
     ]
    }
   ],
   "source": [
    "res = consumer.descriptionRequest(provider_url + \"/api/ids/data\", elementId=offers)\n",
    "pp(res)"
   ]
  }
 ],
 "metadata": {
  "kernelspec": {
   "display_name": "Python 3.10.5 64-bit ('INTAKEIDS')",
   "language": "python",
   "name": "python3"
  },
  "language_info": {
   "codemirror_mode": {
    "name": "ipython",
    "version": 3
   },
   "file_extension": ".py",
   "mimetype": "text/x-python",
   "name": "python",
   "nbconvert_exporter": "python",
   "pygments_lexer": "ipython3",
   "version": "3.10.5"
  },
  "orig_nbformat": 4,
  "vscode": {
   "interpreter": {
    "hash": "fb4beda5a4c69f137057243dbc2dc0588fffe352cba42b265875a1e8d9564f47"
   }
  }
 },
 "nbformat": 4,
 "nbformat_minor": 2
}
