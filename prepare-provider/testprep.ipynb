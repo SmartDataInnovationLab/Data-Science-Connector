{
 "cells": [
  {
   "cell_type": "markdown",
   "metadata": {},
   "source": [
    "# Prepare `provider` connector"
   ]
  },
  {
   "cell_type": "markdown",
   "metadata": {},
   "source": [
    "### Setup"
   ]
  },
  {
   "cell_type": "code",
   "execution_count": 7,
   "metadata": {},
   "outputs": [],
   "source": [
    "from scripts.resourceapi import ResourceApi\n",
    "from scripts.idsapi import IdsApi\n",
    "\n",
    "from util import create_dummy_data\n",
    "\n",
    "# provider_url = \"https://provider:8080\"\n",
    "# consumer_url = \"https://consumer:8080\"\n",
    "provider_url = \"https://connectorb:8081\"\n",
    "consumer_url = \"https://connectora:8080\"\n",
    "\n",
    "provider = ResourceApi(provider_url)\n",
    "catalog = provider.create_catalog()"
   ]
  },
  {
   "cell_type": "markdown",
   "metadata": {},
   "source": [
    "### CSV document with no policies"
   ]
  },
  {
   "cell_type": "code",
   "execution_count": null,
   "metadata": {},
   "outputs": [],
   "source": [
    "offers = provider.create_offered_resource()\n",
    "representation = provider.create_representation(data={\n",
    "    \"mediaType\": \"text/csv\"\n",
    "})\n",
    "artifact = provider.create_artifact(data={\"value\": \"\"\"\n",
    "5,aaa\n",
    "6,bbb\n",
    "7,ccc\n",
    "\"\"\"})\n",
    "contract = provider.create_contract()\n",
    "use_rule = provider.create_rule()\n",
    "\n",
    "## Link resources\n",
    "provider.add_resource_to_catalog(catalog, offers)\n",
    "provider.add_representation_to_resource(offers, representation)\n",
    "provider.add_artifact_to_representation(representation, artifact)\n",
    "provider.add_contract_to_resource(offers, contract)\n",
    "provider.add_rule_to_contract(contract, use_rule)\n",
    "display(offers, representation, artifact)"
   ]
  },
  {
   "cell_type": "markdown",
   "metadata": {},
   "source": [
    "### CSV with max 2 counted uses policy"
   ]
  },
  {
   "cell_type": "code",
   "execution_count": null,
   "metadata": {},
   "outputs": [],
   "source": [
    "#counted csv\n",
    "offers = provider.create_offered_resource()\n",
    "representation = provider.create_representation(data={\n",
    "    \"mediaType\": \"text/csv\"\n",
    "})\n",
    "artifact = provider.create_artifact(data={\"value\": \"\"\"\n",
    "5,aaa\n",
    "6,bbb\n",
    "7,ccc\n",
    "\"\"\"})\n",
    "contract = provider.create_contract()\n",
    "use_rule = provider.create_rule(data={\"value\": \"\"\"{\n",
    "\"@context\" : {\n",
    "    \"ids\" : \"https://w3id.org/idsa/core/\",\n",
    "    \"idsc\" : \"https://w3id.org/idsa/code/\"\n",
    "},\n",
    "\"@type\": \"ids:Permission\",\n",
    "\"@id\": \"https://w3id.org/idsa/autogen/permission/cf1cb758-b96d-4486-b0a7-f3ac0e289588\",\n",
    "\"ids:action\": [\n",
    "    {\n",
    "    \"@id\": \"idsc:USE\"\n",
    "    }\n",
    "],\n",
    "\"ids:description\": [\n",
    "    {\n",
    "    \"@value\": \"my-very-own-rule\",\n",
    "    \"@type\": \"http://www.w3.org/2001/XMLSchema#string\"\n",
    "    }\n",
    "],\n",
    "\"ids:title\": [\n",
    "    {\n",
    "    \"@value\": \"My Example Policy\",\n",
    "    \"@type\": \"http://www.w3.org/2001/XMLSchema#string\"\n",
    "    }\n",
    "],\n",
    "\"ids:constraint\" : [ {\n",
    "    \"@type\" : \"ids:Constraint\",\n",
    "    \"@id\" : \"https://w3id.org/idsa/autogen/constraint/a5d77dcd-f838-48e9-bdc1-4b219946f8ac\",\n",
    "    \"ids:rightOperand\" : {\n",
    "      \"@value\" : \"2\",\n",
    "      \"@type\" : \"http://www.w3.org/2001/XMLSchema#double\"\n",
    "    },\n",
    "    \"ids:leftOperand\" : {\n",
    "      \"@id\" : \"idsc:COUNT\"\n",
    "    },\n",
    "    \"ids:operator\" : {\n",
    "      \"@id\" : \"idsc:LTEQ\"\n",
    "    }\n",
    "  } ]\n",
    "}\"\"\"})\n",
    "\n",
    "## Link resources\n",
    "provider.add_resource_to_catalog(catalog, offers)\n",
    "provider.add_representation_to_resource(offers, representation)\n",
    "provider.add_artifact_to_representation(representation, artifact)\n",
    "provider.add_contract_to_resource(offers, contract)\n",
    "provider.add_rule_to_contract(contract, use_rule)\n",
    "display(offers, representation, artifact)"
   ]
  },
  {
   "cell_type": "markdown",
   "metadata": {},
   "source": [
    "### CSV, multiple artifacts in a representation"
   ]
  },
  {
   "cell_type": "code",
   "execution_count": null,
   "metadata": {},
   "outputs": [],
   "source": [
    "offers = provider.create_offered_resource()\n",
    "representation = provider.create_representation(data={\n",
    "    \"mediaType\": \"text/csv\"\n",
    "})\n",
    "artifact1 = provider.create_artifact(data={\"value\": \"\"\"\n",
    "5,aaa\n",
    "6,bbb\n",
    "7,ccc\n",
    "\"\"\"})\n",
    "artifact2 = provider.create_artifact(data={\"value\": \"\"\"\n",
    "8,A-A-A\n",
    "9,B-B-B\n",
    "10,C-C-C\n",
    "\"\"\"})\n",
    "contract = provider.create_contract()\n",
    "use_rule = provider.create_rule()\n",
    "\n",
    "## Link resources\n",
    "provider.add_resource_to_catalog(catalog, offers)\n",
    "provider.add_representation_to_resource(offers, representation)\n",
    "provider.add_artifact_to_representation(representation, artifact1)\n",
    "provider.add_artifact_to_representation(representation, artifact2)\n",
    "provider.add_contract_to_resource(offers, contract)\n",
    "provider.add_rule_to_contract(contract, use_rule)\n",
    "display(offers, representation, artifact1, artifact2)"
   ]
  },
  {
   "cell_type": "markdown",
   "metadata": {},
   "source": [
    "### CSV with prohibition"
   ]
  },
  {
   "cell_type": "code",
   "execution_count": null,
   "metadata": {},
   "outputs": [],
   "source": [
    "offers = provider.create_offered_resource()\n",
    "representation = provider.create_representation(data={\n",
    "    \"mediaType\": \"text/csv\"\n",
    "})\n",
    "artifact = provider.create_artifact(data={\"value\": \"\"\"\n",
    "no, can, do\n",
    "woe, is, me\n",
    "\"\"\"})\n",
    "contract = provider.create_contract()\n",
    "use_rule = provider.create_rule(data={\"value\": \"\"\"{\n",
    "  \"@context\" : {\n",
    "    \"ids\" : \"https://w3id.org/idsa/core/\",\n",
    "    \"idsc\" : \"https://w3id.org/idsa/code/\"\n",
    "  },\n",
    "  \"@type\" : \"ids:Prohibition\",\n",
    "  \"@id\" : \"https://w3id.org/idsa/autogen/prohibition/2e4d3dbc-19be-4127-ad71-f9dfbc9f3850\",\n",
    "  \"ids:description\" : [ {\n",
    "    \"@value\" : \"prohibdesc\",\n",
    "    \"@type\" : \"http://www.w3.org/2001/XMLSchema#string\"\n",
    "  } ],\n",
    "  \"ids:title\" : [ {\n",
    "    \"@value\" : \"prohibtitle\",\n",
    "    \"@type\" : \"http://www.w3.org/2001/XMLSchema#string\"\n",
    "  } ],\n",
    "  \"ids:action\" : [ {\n",
    "    \"@id\" : \"https://w3id.org/idsa/code/USE\"\n",
    "  } ]\n",
    "}\"\"\"})\n",
    "\n",
    "## Link resources\n",
    "provider.add_resource_to_catalog(catalog, offers)\n",
    "provider.add_representation_to_resource(offers, representation)\n",
    "provider.add_artifact_to_representation(representation, artifact)\n",
    "provider.add_contract_to_resource(offers, contract)\n",
    "provider.add_rule_to_contract(contract, use_rule)\n",
    "display(offers, representation, artifact)"
   ]
  },
  {
   "cell_type": "markdown",
   "metadata": {},
   "source": [
    "### CSV with 30 seconds duration"
   ]
  },
  {
   "cell_type": "code",
   "execution_count": 18,
   "metadata": {},
   "outputs": [
    {
     "data": {
      "text/plain": [
       "'https://connectorb:8081/api/offers/f793587b-2114-4244-9b20-5a0e3d32741d'"
      ]
     },
     "metadata": {},
     "output_type": "display_data"
    },
    {
     "data": {
      "text/plain": [
       "'https://connectorb:8081/api/representations/bef7bcf4-c8ee-4f5f-92f1-b7d50fbdef1e'"
      ]
     },
     "metadata": {},
     "output_type": "display_data"
    },
    {
     "data": {
      "text/plain": [
       "'https://connectorb:8081/api/artifacts/2aa15115-674b-4d24-8b52-3f4e262df4cb'"
      ]
     },
     "metadata": {},
     "output_type": "display_data"
    }
   ],
   "source": [
    "offers = provider.create_offered_resource()\n",
    "representation = provider.create_representation(data={\n",
    "    \"mediaType\": \"text/csv\"\n",
    "})\n",
    "artifact = provider.create_artifact(data={\"value\": \"\"\"\n",
    "this, table, goes, after\n",
    "30, thirty, dreißig, otuz\n",
    "seconds, seconds, seconds, seconds\n",
    "\"\"\"})\n",
    "contract = provider.create_contract()\n",
    "use_rule = provider.create_rule(data={\"value\": \"\"\"{\n",
    "  \"@context\": {\n",
    "    \"xsd\": \"http://www.w3.org/2001/XMLSchema#\",\n",
    "    \"ids\": \"https://w3id.org/idsa/core/\",\n",
    "    \"idsc\": \"https://w3id.org/idsa/code/\"\n",
    "  },\n",
    "  \"@type\": \"ids:Permission\",\n",
    "  \"@id\": \"https://w3id.org/idsa/autogen/permission/4699521b-89a9-4b8c-8113-02d00b8f72b1\",\n",
    "  \"ids:description\": [\n",
    "    {\n",
    "      \"@value\": \"30s duration desc\",\n",
    "      \"@type\": \"http://www.w3.org/2001/XMLSchema#string\"\n",
    "    }\n",
    "  ],\n",
    "  \"ids:title\": [\n",
    "    {\n",
    "      \"@value\": \"30s duration\",\n",
    "      \"@type\": \"http://www.w3.org/2001/XMLSchema#string\"\n",
    "    }\n",
    "  ],\n",
    "  \"ids:constraint\": [\n",
    "    {\n",
    "      \"@type\": \"ids:Constraint\",\n",
    "      \"@id\": \"https://w3id.org/idsa/autogen/constraint/78b06a64-ef7b-4b80-9846-fe95f0850430\",\n",
    "      \"ids:leftOperand\": {\n",
    "        \"@id\": \"https://w3id.org/idsa/code/ELAPSED_TIME\"\n",
    "      },\n",
    "      \"ids:rightOperand\": {\n",
    "        \"@value\": \"PT30S\",\n",
    "        \"@type\": \"xsd:duration\"\n",
    "      },\n",
    "      \"ids:operator\": {\n",
    "        \"@id\": \"https://w3id.org/idsa/code/SHORTER_EQ\"\n",
    "      }\n",
    "    }\n",
    "  ],\n",
    "  \"ids:action\": [\n",
    "    {\n",
    "      \"@id\": \"https://w3id.org/idsa/code/USE\"\n",
    "    }\n",
    "  ]\n",
    "}\"\"\"})\n",
    "\n",
    "## Link resources\n",
    "provider.add_resource_to_catalog(catalog, offers)\n",
    "provider.add_representation_to_resource(offers, representation)\n",
    "provider.add_artifact_to_representation(representation, artifact)\n",
    "provider.add_contract_to_resource(offers, contract)\n",
    "provider.add_rule_to_contract(contract, use_rule)\n",
    "display(offers, representation, artifact)"
   ]
  },
  {
   "cell_type": "markdown",
   "metadata": {},
   "source": [
    "### CSV, Usage logging, bypass cache"
   ]
  },
  {
   "cell_type": "code",
   "execution_count": 9,
   "metadata": {},
   "outputs": [
    {
     "data": {
      "text/plain": [
       "'https://connectorb:8081/api/offers/76d4222a-a8f1-4708-b27b-92e104cd576c'"
      ]
     },
     "metadata": {},
     "output_type": "display_data"
    },
    {
     "data": {
      "text/plain": [
       "'https://connectorb:8081/api/representations/89e9395b-8922-4b21-ae45-f6e9a4256422'"
      ]
     },
     "metadata": {},
     "output_type": "display_data"
    },
    {
     "data": {
      "text/plain": [
       "'https://connectorb:8081/api/artifacts/b2e60853-a0fe-4024-8c7c-66cd444a0ec5'"
      ]
     },
     "metadata": {},
     "output_type": "display_data"
    }
   ],
   "source": [
    "offers = provider.create_offered_resource()\n",
    "representation = provider.create_representation(data={\n",
    "    \"mediaType\": \"text/csv\"\n",
    "})\n",
    "artifact = provider.create_artifact(data={\"value\": \"\"\"\n",
    "usage, logging\n",
    "\"\"\"})\n",
    "contract = provider.create_contract()\n",
    "use_rule = provider.create_rule(data={\"value\": \"\"\"{\n",
    "  \"@context\": {\n",
    "    \"ids\": \"https://w3id.org/idsa/core/\",\n",
    "    \"idsc\": \"https://w3id.org/idsa/code/\"\n",
    "  },\n",
    "  \"@type\": \"ids:Permission\",\n",
    "  \"@id\": \"https://w3id.org/idsa/autogen/permission/124cf045-d23f-41c6-bd00-0d83e9978d07\",\n",
    "  \"ids:description\": [\n",
    "    {\n",
    "      \"@value\": \"\",\n",
    "      \"@type\": \"http://www.w3.org/2001/XMLSchema#string\"\n",
    "    }\n",
    "  ],\n",
    "  \"ids:title\": [\n",
    "    {\n",
    "      \"@value\": \"\",\n",
    "      \"@type\": \"http://www.w3.org/2001/XMLSchema#string\"\n",
    "    }\n",
    "  ],\n",
    "  \"ids:postDuty\": [\n",
    "    {\n",
    "      \"@type\": \"ids:Duty\",\n",
    "      \"@id\": \"https://w3id.org/idsa/autogen/duty/0207cd15-8a38-4980-bb5f-43b23a792b30\",\n",
    "      \"ids:action\": [\n",
    "        {\n",
    "          \"@id\": \"https://w3id.org/idsa/code/LOG\"\n",
    "        }\n",
    "      ]\n",
    "    }\n",
    "  ],\n",
    "  \"ids:action\": [\n",
    "    {\n",
    "      \"@id\": \"https://w3id.org/idsa/code/USE\"\n",
    "    }\n",
    "  ]\n",
    "}\"\"\"})\n",
    "\n",
    "## Link resources\n",
    "provider.add_resource_to_catalog(catalog, offers)\n",
    "provider.add_representation_to_resource(offers, representation)\n",
    "provider.add_artifact_to_representation(representation, artifact)\n",
    "provider.add_contract_to_resource(offers, contract)\n",
    "provider.add_rule_to_contract(contract, use_rule)\n",
    "display(offers, representation, artifact)"
   ]
  },
  {
   "cell_type": "markdown",
   "metadata": {},
   "source": [
    "### Usage during interval (now, now+90s)"
   ]
  },
  {
   "cell_type": "code",
   "execution_count": 10,
   "metadata": {},
   "outputs": [
    {
     "data": {
      "text/plain": [
       "'https://connectorb:8081/api/offers/eeebc95d-4671-4da3-816b-2e6dee745c7a'"
      ]
     },
     "metadata": {},
     "output_type": "display_data"
    },
    {
     "data": {
      "text/plain": [
       "'https://connectorb:8081/api/representations/bac2ce8b-e71b-4c5f-a57e-c7cb701cd615'"
      ]
     },
     "metadata": {},
     "output_type": "display_data"
    },
    {
     "data": {
      "text/plain": [
       "'https://connectorb:8081/api/artifacts/d4f18bf7-473b-4ebd-ab37-237f42ec46f1'"
      ]
     },
     "metadata": {},
     "output_type": "display_data"
    }
   ],
   "source": [
    "from datetime import datetime, timedelta\n",
    "\n",
    "offers = provider.create_offered_resource()\n",
    "representation = provider.create_representation(data={\n",
    "    \"mediaType\": \"text/csv\"\n",
    "})\n",
    "artifact = provider.create_artifact(data={\"value\": \"\"\"\n",
    "usage, during\n",
    "interval, interval\n",
    "from now, for 90s\n",
    "\"\"\"})\n",
    "contract = provider.create_contract()\n",
    "utcnow = datetime.utcnow()\n",
    "utcnext = utcnow + timedelta(0, 90)\n",
    "\n",
    "interval = provider.create_rule(data={\"value\": \"\"\"{\n",
    "  \"@context\": {\n",
    "    \"xsd\": \"http://www.w3.org/2001/XMLSchema#\",\n",
    "    \"ids\": \"https://w3id.org/idsa/core/\",\n",
    "    \"idsc\": \"https://w3id.org/idsa/code/\"\n",
    "  },\n",
    "  \"@type\": \"ids:Permission\",\n",
    "  \"@id\": \"https://w3id.org/idsa/autogen/permission/9ebbeb58-cdab-409e-9e0b-c0cf34eb333b\",\n",
    "  \"ids:description\": [\n",
    "    {\n",
    "      \"@value\": \"\",\n",
    "      \"@type\": \"http://www.w3.org/2001/XMLSchema#string\"\n",
    "    }\n",
    "  ],\n",
    "  \"ids:title\": [\n",
    "    {\n",
    "      \"@value\": \"\",\n",
    "      \"@type\": \"http://www.w3.org/2001/XMLSchema#string\"\n",
    "    }\n",
    "  ],\n",
    "  \"ids:constraint\": [\n",
    "    {\n",
    "      \"@type\": \"ids:Constraint\",\n",
    "      \"@id\": \"https://w3id.org/idsa/autogen/constraint/40284dd2-90ac-437b-aabe-1c245ca58af5\",\n",
    "      \"ids:leftOperand\": {\n",
    "        \"@id\": \"https://w3id.org/idsa/code/POLICY_EVALUATION_TIME\"\n",
    "      },\n",
    "      \"ids:rightOperand\": {\n",
    "        \"@value\": \"%s\",\n",
    "        \"@type\": \"xsd:dateTimeStamp\"\n",
    "      },\n",
    "      \"ids:operator\": {\n",
    "        \"@id\": \"https://w3id.org/idsa/code/AFTER\"\n",
    "      }\n",
    "    },\n",
    "    {\n",
    "      \"@type\": \"ids:Constraint\",\n",
    "      \"@id\": \"https://w3id.org/idsa/autogen/constraint/e11dd6c4-cf8c-4dc2-8234-095d9fd055f8\",\n",
    "      \"ids:leftOperand\": {\n",
    "        \"@id\": \"https://w3id.org/idsa/code/POLICY_EVALUATION_TIME\"\n",
    "      },\n",
    "      \"ids:rightOperand\": {\n",
    "        \"@value\": \"%s\",\n",
    "        \"@type\": \"xsd:dateTimeStamp\"\n",
    "      },\n",
    "      \"ids:operator\": {\n",
    "        \"@id\": \"https://w3id.org/idsa/code/BEFORE\"\n",
    "      }\n",
    "    }\n",
    "  ],\n",
    "  \"ids:action\": [\n",
    "    {\n",
    "      \"@id\": \"https://w3id.org/idsa/code/USE\"\n",
    "    }\n",
    "  ]\n",
    "}\"\"\"%(utcnow.isoformat()[:-3]+'Z', utcnext.isoformat()[:-3]+'Z')})\n",
    "\n",
    "## Link resources\n",
    "provider.add_resource_to_catalog(catalog, offers)\n",
    "provider.add_representation_to_resource(offers, representation)\n",
    "provider.add_artifact_to_representation(representation, artifact)\n",
    "provider.add_contract_to_resource(offers, contract)\n",
    "provider.add_rule_to_contract(contract, interval)\n",
    "display(offers, representation, artifact)"
   ]
  },
  {
   "cell_type": "markdown",
   "metadata": {},
   "source": [
    "### Usage until deletion"
   ]
  },
  {
   "cell_type": "code",
   "execution_count": null,
   "metadata": {},
   "outputs": [],
   "source": [
    "offers = provider.create_offered_resource()\n",
    "representation = provider.create_representation(data={\n",
    "    \"mediaType\": \"text/csv\"\n",
    "})\n",
    "artifact = provider.create_artifact(data={\"value\": \"\"\"\n",
    "usage, until\n",
    "deletion, deletion\n",
    "\"\"\"})\n",
    "contract = provider.create_contract()\n",
    "use_rule = provider.create_rule(data={\"value\": \"\"\"{\n",
    "  \"@context\": {\n",
    "    \"xsd\": \"http://www.w3.org/2001/XMLSchema#\",\n",
    "    \"ids\": \"https://w3id.org/idsa/core/\",\n",
    "    \"idsc\": \"https://w3id.org/idsa/code/\"\n",
    "  },\n",
    "  \"@type\": \"ids:Permission\",\n",
    "  \"@id\": \"https://w3id.org/idsa/autogen/permission/aa84f8c6-579a-4c8d-973a-9d16f6d33782\",\n",
    "  \"ids:description\": [\n",
    "    {\n",
    "      \"@value\": \"\",\n",
    "      \"@type\": \"http://www.w3.org/2001/XMLSchema#string\"\n",
    "    }\n",
    "  ],\n",
    "  \"ids:title\": [\n",
    "    {\n",
    "      \"@value\": \"\",\n",
    "      \"@type\": \"http://www.w3.org/2001/XMLSchema#string\"\n",
    "    }\n",
    "  ],\n",
    "  \"ids:postDuty\": [\n",
    "    {\n",
    "      \"@type\": \"ids:Duty\",\n",
    "      \"@id\": \"https://w3id.org/idsa/autogen/duty/db1131a5-97b9-42c2-820a-0179c670fe02\",\n",
    "      \"ids:constraint\": [\n",
    "        {\n",
    "          \"@type\": \"ids:Constraint\",\n",
    "          \"@id\": \"https://w3id.org/idsa/autogen/constraint/10060abc-deb3-440d-8bed-199c970d2dd6\",\n",
    "          \"ids:leftOperand\": {\n",
    "            \"@id\": \"https://w3id.org/idsa/code/POLICY_EVALUATION_TIME\"\n",
    "          },\n",
    "          \"ids:rightOperand\": {\n",
    "            \"@value\": \"2022-12-12T00:00:00Z\",\n",
    "            \"@type\": \"xsd:dateTimeStamp\"\n",
    "          },\n",
    "          \"ids:operator\": {\n",
    "            \"@id\": \"https://w3id.org/idsa/code/TEMPORAL_EQUALS\"\n",
    "          }\n",
    "        }\n",
    "      ],\n",
    "      \"ids:action\": [\n",
    "        {\n",
    "          \"@id\": \"https://w3id.org/idsa/code/DELETE\"\n",
    "        }\n",
    "      ]\n",
    "    }\n",
    "  ],\n",
    "  \"ids:constraint\": [\n",
    "    {\n",
    "      \"@type\": \"ids:Constraint\",\n",
    "      \"@id\": \"https://w3id.org/idsa/autogen/constraint/11b306b1-7f8e-4fd5-8a7e-36bba33bac13\",\n",
    "      \"ids:leftOperand\": {\n",
    "        \"@id\": \"https://w3id.org/idsa/code/POLICY_EVALUATION_TIME\"\n",
    "      },\n",
    "      \"ids:rightOperand\": {\n",
    "        \"@value\": \"2022-04-04T00:00:00Z\",\n",
    "        \"@type\": \"xsd:dateTimeStamp\"\n",
    "      },\n",
    "      \"ids:operator\": {\n",
    "        \"@id\": \"https://w3id.org/idsa/code/AFTER\"\n",
    "      }\n",
    "    },\n",
    "    {\n",
    "      \"@type\": \"ids:Constraint\",\n",
    "      \"@id\": \"https://w3id.org/idsa/autogen/constraint/3d2905f6-90e6-4366-885d-8421f61403f2\",\n",
    "      \"ids:leftOperand\": {\n",
    "        \"@id\": \"https://w3id.org/idsa/code/POLICY_EVALUATION_TIME\"\n",
    "      },\n",
    "      \"ids:rightOperand\": {\n",
    "        \"@value\": \"2022-12-12T00:00:00Z\",\n",
    "        \"@type\": \"xsd:dateTimeStamp\"\n",
    "      },\n",
    "      \"ids:operator\": {\n",
    "        \"@id\": \"https://w3id.org/idsa/code/BEFORE\"\n",
    "      }\n",
    "    }\n",
    "  ],\n",
    "  \"ids:action\": [\n",
    "    {\n",
    "      \"@id\": \"https://w3id.org/idsa/code/USE\"\n",
    "    }\n",
    "  ]\n",
    "}\"\"\"})\n",
    "\n",
    "## Link resources\n",
    "provider.add_resource_to_catalog(catalog, offers)\n",
    "provider.add_representation_to_resource(offers, representation)\n",
    "provider.add_artifact_to_representation(representation, artifact)\n",
    "provider.add_contract_to_resource(offers, contract)\n",
    "provider.add_rule_to_contract(contract, use_rule)\n",
    "display(offers, representation, artifact)"
   ]
  },
  {
   "cell_type": "markdown",
   "metadata": {},
   "source": [
    "### Usage logging + 30 second interval from now"
   ]
  },
  {
   "cell_type": "code",
   "execution_count": 14,
   "metadata": {},
   "outputs": [
    {
     "data": {
      "text/plain": [
       "'https://connectorb:8081/api/offers/94c9fe2f-71a1-49e3-a13c-4d6090fa623b'"
      ]
     },
     "metadata": {},
     "output_type": "display_data"
    },
    {
     "data": {
      "text/plain": [
       "'https://connectorb:8081/api/representations/d422ccda-44d8-4f4c-bf7b-b06aef98c42d'"
      ]
     },
     "metadata": {},
     "output_type": "display_data"
    },
    {
     "data": {
      "text/plain": [
       "'https://connectorb:8081/api/artifacts/5bfbf5b4-470f-4637-aa1e-1f7c1f6e5995'"
      ]
     },
     "metadata": {},
     "output_type": "display_data"
    }
   ],
   "source": [
    "from datetime import datetime, timedelta\n",
    "\n",
    "offers = provider.create_offered_resource()\n",
    "representation = provider.create_representation(data={\n",
    "    \"mediaType\": \"text/csv\"\n",
    "})\n",
    "artifact = provider.create_artifact(data={\"value\": \"\"\"\n",
    "usage, logging, and\n",
    "and, duration, 30s\n",
    "\"\"\"})\n",
    "contract = provider.create_contract()\n",
    "usage_logging = provider.create_rule(data={\"value\": \"\"\"{\n",
    "  \"@context\": {\n",
    "    \"ids\": \"https://w3id.org/idsa/core/\",\n",
    "    \"idsc\": \"https://w3id.org/idsa/code/\"\n",
    "  },\n",
    "  \"@type\": \"ids:Permission\",\n",
    "  \"@id\": \"https://w3id.org/idsa/autogen/permission/124cf045-d23f-41c6-bd00-0d83e9978d07\",\n",
    "  \"ids:description\": [\n",
    "    {\n",
    "      \"@value\": \"\",\n",
    "      \"@type\": \"http://www.w3.org/2001/XMLSchema#string\"\n",
    "    }\n",
    "  ],\n",
    "  \"ids:title\": [\n",
    "    {\n",
    "      \"@value\": \"\",\n",
    "      \"@type\": \"http://www.w3.org/2001/XMLSchema#string\"\n",
    "    }\n",
    "  ],\n",
    "  \"ids:postDuty\": [\n",
    "    {\n",
    "      \"@type\": \"ids:Duty\",\n",
    "      \"@id\": \"https://w3id.org/idsa/autogen/duty/0207cd15-8a38-4980-bb5f-43b23a792b30\",\n",
    "      \"ids:action\": [\n",
    "        {\n",
    "          \"@id\": \"https://w3id.org/idsa/code/LOG\"\n",
    "        }\n",
    "      ]\n",
    "    }\n",
    "  ],\n",
    "  \"ids:action\": [\n",
    "    {\n",
    "      \"@id\": \"https://w3id.org/idsa/code/USE\"\n",
    "    }\n",
    "  ]\n",
    "}\"\"\"})\n",
    "\n",
    "utcnow = datetime.utcnow()\n",
    "utcnext = utcnow + timedelta(0, 30)\n",
    "\n",
    "interval = provider.create_rule(data={\"value\": \"\"\"{\n",
    "  \"@context\": {\n",
    "    \"xsd\": \"http://www.w3.org/2001/XMLSchema#\",\n",
    "    \"ids\": \"https://w3id.org/idsa/core/\",\n",
    "    \"idsc\": \"https://w3id.org/idsa/code/\"\n",
    "  },\n",
    "  \"@type\": \"ids:Permission\",\n",
    "  \"@id\": \"https://w3id.org/idsa/autogen/permission/9ebbeb58-cdab-409e-9e0b-c0cf34eb333b\",\n",
    "  \"ids:description\": [\n",
    "    {\n",
    "      \"@value\": \"\",\n",
    "      \"@type\": \"http://www.w3.org/2001/XMLSchema#string\"\n",
    "    }\n",
    "  ],\n",
    "  \"ids:title\": [\n",
    "    {\n",
    "      \"@value\": \"\",\n",
    "      \"@type\": \"http://www.w3.org/2001/XMLSchema#string\"\n",
    "    }\n",
    "  ],\n",
    "  \"ids:constraint\": [\n",
    "    {\n",
    "      \"@type\": \"ids:Constraint\",\n",
    "      \"@id\": \"https://w3id.org/idsa/autogen/constraint/40284dd2-90ac-437b-aabe-1c245ca58af5\",\n",
    "      \"ids:leftOperand\": {\n",
    "        \"@id\": \"https://w3id.org/idsa/code/POLICY_EVALUATION_TIME\"\n",
    "      },\n",
    "      \"ids:rightOperand\": {\n",
    "        \"@value\": \"%s\",\n",
    "        \"@type\": \"xsd:dateTimeStamp\"\n",
    "      },\n",
    "      \"ids:operator\": {\n",
    "        \"@id\": \"https://w3id.org/idsa/code/AFTER\"\n",
    "      }\n",
    "    },\n",
    "    {\n",
    "      \"@type\": \"ids:Constraint\",\n",
    "      \"@id\": \"https://w3id.org/idsa/autogen/constraint/e11dd6c4-cf8c-4dc2-8234-095d9fd055f8\",\n",
    "      \"ids:leftOperand\": {\n",
    "        \"@id\": \"https://w3id.org/idsa/code/POLICY_EVALUATION_TIME\"\n",
    "      },\n",
    "      \"ids:rightOperand\": {\n",
    "        \"@value\": \"%s\",\n",
    "        \"@type\": \"xsd:dateTimeStamp\"\n",
    "      },\n",
    "      \"ids:operator\": {\n",
    "        \"@id\": \"https://w3id.org/idsa/code/BEFORE\"\n",
    "      }\n",
    "    }\n",
    "  ],\n",
    "  \"ids:action\": [\n",
    "    {\n",
    "      \"@id\": \"https://w3id.org/idsa/code/USE\"\n",
    "    }\n",
    "  ]\n",
    "}\"\"\"%(utcnow.isoformat()[:-3]+'Z', utcnext.isoformat()[:-3]+'Z')})\n",
    "\n",
    "## Link resources\n",
    "provider.add_resource_to_catalog(catalog, offers)\n",
    "provider.add_representation_to_resource(offers, representation)\n",
    "provider.add_artifact_to_representation(representation, artifact)\n",
    "provider.add_contract_to_resource(offers, contract)\n",
    "provider.add_rule_to_contract(contract, interval)\n",
    "provider.add_rule_to_contract(contract, usage_logging)\n",
    "display(offers, representation, artifact)"
   ]
  }
 ],
 "metadata": {
  "interpreter": {
   "hash": "b8a07340c5fc94bb1522d40e58eae1ac2f38356286072e45868e83ecc17c50f3"
  },
  "kernelspec": {
   "display_name": "Python 3.10.5 64-bit ('PREPPROVIDER')",
   "language": "python",
   "name": "python3"
  },
  "language_info": {
   "codemirror_mode": {
    "name": "ipython",
    "version": 3
   },
   "file_extension": ".py",
   "mimetype": "text/x-python",
   "name": "python",
   "nbconvert_exporter": "python",
   "pygments_lexer": "ipython3",
   "version": "3.10.5"
  },
  "orig_nbformat": 4,
  "vscode": {
   "interpreter": {
    "hash": "fb4beda5a4c69f137057243dbc2dc0588fffe352cba42b265875a1e8d9564f47"
   }
  }
 },
 "nbformat": 4,
 "nbformat_minor": 2
}
