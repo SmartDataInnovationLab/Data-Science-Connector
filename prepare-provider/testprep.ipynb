{
 "cells": [
  {
   "cell_type": "code",
   "execution_count": null,
   "metadata": {},
   "outputs": [],
   "source": [
    "from scripts.resourceapi import ResourceApi\n",
    "from scripts.idsapi import IdsApi\n",
    "\n",
    "from util import create_dummy_data\n",
    "\n",
    "provider_url = \"https://provider:8080\"\n",
    "consumer_url = \"https://consumer:8080\"\n",
    "\n",
    "provider = ResourceApi(provider_url)\n",
    "catalog = provider.create_catalog()"
   ]
  },
  {
   "cell_type": "code",
   "execution_count": null,
   "metadata": {},
   "outputs": [],
   "source": [
    "#csv\n",
    "create_dummy_data(provider=provider, catalog=catalog, repr_kwargs={\n",
    "    \"data\": {\n",
    "        \"dtypes\": \"{\\\"number\\\": \\\"int\\\", \\\"title\\\": \\\"str\\\"}\",\n",
    "        \"mediaType\": \"text/csv\"\n",
    "    }\n",
    "}, data_value=\"5,aaa\\n6,bbb\\n7,ccc\\n\")"
   ]
  },
  {
   "cell_type": "code",
   "execution_count": null,
   "metadata": {},
   "outputs": [],
   "source": [
    "#json\n",
    "#csv\n",
    "create_dummy_data(provider=provider, catalog=catalog, repr_kwargs={\n",
    "    \"data\": {\n",
    "        \"dtypes\": \"{\\\"number\\\": \\\"int\\\", \\\"title\\\": \\\"str\\\"}\",\n",
    "        \"mediaType\": \"text/csv\"\n",
    "    }\n",
    "}, data_value=\"50,AAAA\\n6,bbb\\n7,ccgfggc\\n\", rule_value=\"\"\"{\n",
    "\"@context\" : {\n",
    "    \"ids\" : \"https://w3id.org/idsa/core/\",\n",
    "    \"idsc\" : \"https://w3id.org/idsa/code/\"\n",
    "},\n",
    "\"@type\": \"ids:Permission\",\n",
    "\"@id\": \"https://w3id.org/idsa/autogen/permission/cf1cb758-b96d-4486-b0a7-f3ac0e289588\",\n",
    "\"ids:action\": [\n",
    "    {\n",
    "    \"@id\": \"idsc:USE\"\n",
    "    }\n",
    "],\n",
    "\"ids:description\": [\n",
    "    {\n",
    "    \"@value\": \"my-very-own-rule\",\n",
    "    \"@type\": \"http://www.w3.org/2001/XMLSchema#string\"\n",
    "    }\n",
    "],\n",
    "\"ids:title\": [\n",
    "    {\n",
    "    \"@value\": \"My Example Policy\",\n",
    "    \"@type\": \"http://www.w3.org/2001/XMLSchema#string\"\n",
    "    }\n",
    "],\n",
    "\"ids:constraint\" : [ {\n",
    "    \"@type\" : \"ids:Constraint\",\n",
    "    \"@id\" : \"https://w3id.org/idsa/autogen/constraint/a5d77dcd-f838-48e9-bdc1-4b219946f8ac\",\n",
    "    \"ids:rightOperand\" : {\n",
    "      \"@value\" : \"2\",\n",
    "      \"@type\" : \"http://www.w3.org/2001/XMLSchema#double\"\n",
    "    },\n",
    "    \"ids:leftOperand\" : {\n",
    "      \"@id\" : \"idsc:COUNT\"\n",
    "    },\n",
    "    \"ids:operator\" : {\n",
    "      \"@id\" : \"idsc:LTEQ\"\n",
    "    }\n",
    "  } ]\n",
    "}\"\"\"\n",
    ")"
   ]
  },
  {
   "cell_type": "code",
   "execution_count": null,
   "metadata": {},
   "outputs": [],
   "source": [
    "consumer = IdsApi(consumer_url)"
   ]
  },
  {
   "cell_type": "code",
   "execution_count": null,
   "metadata": {},
   "outputs": [],
   "source": [
    "con = consumer.descriptionRequest(provider_url + \"/api/ids/data\")\n",
    "con['ids:resourceCatalog']"
   ]
  },
  {
   "cell_type": "code",
   "execution_count": null,
   "metadata": {},
   "outputs": [],
   "source": [
    "rescat = consumer.descriptionRequest(provider_url + \"/api/ids/data\", elementId=catalog)\n",
    "display(rescat)"
   ]
  },
  {
   "cell_type": "code",
   "execution_count": null,
   "metadata": {},
   "outputs": [],
   "source": [
    "res = consumer.descriptionRequest(provider_url + \"/api/ids/data\", elementId=\"https://provider:8080/api/offers/8f8315d2-0301-4878-9358-06a12e0d39f0\")\n",
    "display(res)"
   ]
  }
 ],
 "metadata": {
  "interpreter": {
   "hash": "b8a07340c5fc94bb1522d40e58eae1ac2f38356286072e45868e83ecc17c50f3"
  },
  "kernelspec": {
   "display_name": "Python 3.10.5 64-bit ('PREPPROVIDER')",
   "language": "python",
   "name": "python3"
  },
  "language_info": {
   "codemirror_mode": {
    "name": "ipython",
    "version": 3
   },
   "file_extension": ".py",
   "mimetype": "text/x-python",
   "name": "python",
   "nbconvert_exporter": "python",
   "pygments_lexer": "ipython3",
   "version": "3.10.5"
  },
  "orig_nbformat": 4,
  "vscode": {
   "interpreter": {
    "hash": "fb4beda5a4c69f137057243dbc2dc0588fffe352cba42b265875a1e8d9564f47"
   }
  }
 },
 "nbformat": 4,
 "nbformat_minor": 2
}
