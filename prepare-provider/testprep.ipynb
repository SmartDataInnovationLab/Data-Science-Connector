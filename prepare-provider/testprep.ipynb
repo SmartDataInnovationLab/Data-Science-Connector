{
 "cells": [
  {
   "cell_type": "markdown",
   "metadata": {},
   "source": [
    "# Prepare `provider` connector"
   ]
  },
  {
   "cell_type": "markdown",
   "metadata": {},
   "source": [
    "### Setup"
   ]
  },
  {
   "cell_type": "code",
   "execution_count": 1,
   "metadata": {},
   "outputs": [],
   "source": [
    "from scripts.resourceapi import ResourceApi\n",
    "from scripts.idsapi import IdsApi\n",
    "\n",
    "from util import create_dummy_data\n",
    "\n",
    "provider_url = \"https://provider:8080\"\n",
    "consumer_url = \"https://consumer:8080\"\n",
    "\n",
    "provider = ResourceApi(provider_url)\n",
    "catalog = provider.create_catalog()"
   ]
  },
  {
   "cell_type": "markdown",
   "metadata": {},
   "source": [
    "### CSV document with no policies"
   ]
  },
  {
   "cell_type": "code",
   "execution_count": null,
   "metadata": {},
   "outputs": [],
   "source": [
    "offers = provider.create_offered_resource()\n",
    "representation = provider.create_representation(data={\n",
    "    \"mediaType\": \"text/csv\"\n",
    "})\n",
    "artifact = provider.create_artifact(data={\"value\": \"\"\"\n",
    "5,aaa\n",
    "6,bbb\n",
    "7,ccc\n",
    "\"\"\"})\n",
    "contract = provider.create_contract()\n",
    "use_rule = provider.create_rule()\n",
    "\n",
    "## Link resources\n",
    "provider.add_resource_to_catalog(catalog, offers)\n",
    "provider.add_representation_to_resource(offers, representation)\n",
    "provider.add_artifact_to_representation(representation, artifact)\n",
    "provider.add_contract_to_resource(offers, contract)\n",
    "provider.add_rule_to_contract(contract, use_rule)\n",
    "display(offers, representation, artifact)"
   ]
  },
  {
   "cell_type": "markdown",
   "metadata": {},
   "source": [
    "### CSV with max 2 counted uses policy"
   ]
  },
  {
   "cell_type": "code",
   "execution_count": null,
   "metadata": {},
   "outputs": [],
   "source": [
    "#counted csv\n",
    "offers = provider.create_offered_resource()\n",
    "representation = provider.create_representation(data={\n",
    "    \"mediaType\": \"text/csv\"\n",
    "})\n",
    "artifact = provider.create_artifact(data={\"value\": \"\"\"\n",
    "5,aaa\n",
    "6,bbb\n",
    "7,ccc\n",
    "\"\"\"})\n",
    "contract = provider.create_contract()\n",
    "use_rule = provider.create_rule(data={\"value\": \"\"\"{\n",
    "\"@context\" : {\n",
    "    \"ids\" : \"https://w3id.org/idsa/core/\",\n",
    "    \"idsc\" : \"https://w3id.org/idsa/code/\"\n",
    "},\n",
    "\"@type\": \"ids:Permission\",\n",
    "\"@id\": \"https://w3id.org/idsa/autogen/permission/cf1cb758-b96d-4486-b0a7-f3ac0e289588\",\n",
    "\"ids:action\": [\n",
    "    {\n",
    "    \"@id\": \"idsc:USE\"\n",
    "    }\n",
    "],\n",
    "\"ids:description\": [\n",
    "    {\n",
    "    \"@value\": \"my-very-own-rule\",\n",
    "    \"@type\": \"http://www.w3.org/2001/XMLSchema#string\"\n",
    "    }\n",
    "],\n",
    "\"ids:title\": [\n",
    "    {\n",
    "    \"@value\": \"My Example Policy\",\n",
    "    \"@type\": \"http://www.w3.org/2001/XMLSchema#string\"\n",
    "    }\n",
    "],\n",
    "\"ids:constraint\" : [ {\n",
    "    \"@type\" : \"ids:Constraint\",\n",
    "    \"@id\" : \"https://w3id.org/idsa/autogen/constraint/a5d77dcd-f838-48e9-bdc1-4b219946f8ac\",\n",
    "    \"ids:rightOperand\" : {\n",
    "      \"@value\" : \"2\",\n",
    "      \"@type\" : \"http://www.w3.org/2001/XMLSchema#double\"\n",
    "    },\n",
    "    \"ids:leftOperand\" : {\n",
    "      \"@id\" : \"idsc:COUNT\"\n",
    "    },\n",
    "    \"ids:operator\" : {\n",
    "      \"@id\" : \"idsc:LTEQ\"\n",
    "    }\n",
    "  } ]\n",
    "}\"\"\"})\n",
    "\n",
    "## Link resources\n",
    "provider.add_resource_to_catalog(catalog, offers)\n",
    "provider.add_representation_to_resource(offers, representation)\n",
    "provider.add_artifact_to_representation(representation, artifact)\n",
    "provider.add_contract_to_resource(offers, contract)\n",
    "provider.add_rule_to_contract(contract, use_rule)\n",
    "display(offers, representation, artifact)"
   ]
  },
  {
   "cell_type": "markdown",
   "metadata": {},
   "source": [
    "### CSV, multiple artifacts in a representation"
   ]
  },
  {
   "cell_type": "code",
   "execution_count": 2,
   "metadata": {},
   "outputs": [
    {
     "data": {
      "text/plain": [
       "'https://provider:8080/api/offers/bcdd0161-67e2-4318-ab17-661f4f4644ba'"
      ]
     },
     "metadata": {},
     "output_type": "display_data"
    },
    {
     "data": {
      "text/plain": [
       "'https://provider:8080/api/representations/066f99e9-3020-403c-b54d-b95e7f390a8a'"
      ]
     },
     "metadata": {},
     "output_type": "display_data"
    },
    {
     "data": {
      "text/plain": [
       "'https://provider:8080/api/artifacts/091f6ccd-c35f-4bd4-9923-1670d84da8da'"
      ]
     },
     "metadata": {},
     "output_type": "display_data"
    },
    {
     "data": {
      "text/plain": [
       "'https://provider:8080/api/artifacts/b0f1ba87-10ff-4c41-9101-341d4fbd7f59'"
      ]
     },
     "metadata": {},
     "output_type": "display_data"
    }
   ],
   "source": [
    "offers = provider.create_offered_resource()\n",
    "representation = provider.create_representation(data={\n",
    "    \"mediaType\": \"text/csv\"\n",
    "})\n",
    "artifact1 = provider.create_artifact(data={\"value\": \"\"\"\n",
    "5,aaa\n",
    "6,bbb\n",
    "7,ccc\n",
    "\"\"\"})\n",
    "artifact2 = provider.create_artifact(data={\"value\": \"\"\"\n",
    "8,A-A-A\n",
    "9,B-B-B\n",
    "10,C-C-C\n",
    "\"\"\"})\n",
    "contract = provider.create_contract()\n",
    "use_rule = provider.create_rule()\n",
    "\n",
    "## Link resources\n",
    "provider.add_resource_to_catalog(catalog, offers)\n",
    "provider.add_representation_to_resource(offers, representation)\n",
    "provider.add_artifact_to_representation(representation, artifact1)\n",
    "provider.add_artifact_to_representation(representation, artifact2)\n",
    "provider.add_contract_to_resource(offers, contract)\n",
    "provider.add_rule_to_contract(contract, use_rule)\n",
    "display(offers, representation, artifact1, artifact2)"
   ]
  },
  {
   "cell_type": "markdown",
   "metadata": {},
   "source": [
    "### CSV with prohibition"
   ]
  },
  {
   "cell_type": "code",
   "execution_count": null,
   "metadata": {},
   "outputs": [],
   "source": [
    "#counted csv\n",
    "offers = provider.create_offered_resource()\n",
    "representation = provider.create_representation(data={\n",
    "    \"mediaType\": \"text/csv\"\n",
    "})\n",
    "artifact = provider.create_artifact(data={\"value\": \"\"\"\n",
    "no, can, do\n",
    "woe, is, me\n",
    "\"\"\"})\n",
    "contract = provider.create_contract()\n",
    "use_rule = provider.create_rule(data={\"value\": \"\"\"{\n",
    "  \"@context\" : {\n",
    "    \"ids\" : \"https://w3id.org/idsa/core/\",\n",
    "    \"idsc\" : \"https://w3id.org/idsa/code/\"\n",
    "  },\n",
    "  \"@type\" : \"ids:Prohibition\",\n",
    "  \"@id\" : \"https://w3id.org/idsa/autogen/prohibition/2e4d3dbc-19be-4127-ad71-f9dfbc9f3850\",\n",
    "  \"ids:description\" : [ {\n",
    "    \"@value\" : \"prohibdesc\",\n",
    "    \"@type\" : \"http://www.w3.org/2001/XMLSchema#string\"\n",
    "  } ],\n",
    "  \"ids:title\" : [ {\n",
    "    \"@value\" : \"prohibtitle\",\n",
    "    \"@type\" : \"http://www.w3.org/2001/XMLSchema#string\"\n",
    "  } ],\n",
    "  \"ids:action\" : [ {\n",
    "    \"@id\" : \"https://w3id.org/idsa/code/USE\"\n",
    "  } ]\n",
    "}\"\"\"})\n",
    "\n",
    "## Link resources\n",
    "provider.add_resource_to_catalog(catalog, offers)\n",
    "provider.add_representation_to_resource(offers, representation)\n",
    "provider.add_artifact_to_representation(representation, artifact)\n",
    "provider.add_contract_to_resource(offers, contract)\n",
    "provider.add_rule_to_contract(contract, use_rule)\n",
    "display(offers, representation, artifact)"
   ]
  }
 ],
 "metadata": {
  "interpreter": {
   "hash": "b8a07340c5fc94bb1522d40e58eae1ac2f38356286072e45868e83ecc17c50f3"
  },
  "kernelspec": {
   "display_name": "Python 3.10.5 64-bit ('PREPPROVIDER')",
   "language": "python",
   "name": "python3"
  },
  "language_info": {
   "codemirror_mode": {
    "name": "ipython",
    "version": 3
   },
   "file_extension": ".py",
   "mimetype": "text/x-python",
   "name": "python",
   "nbconvert_exporter": "python",
   "pygments_lexer": "ipython3",
   "version": "3.10.5"
  },
  "orig_nbformat": 4,
  "vscode": {
   "interpreter": {
    "hash": "fb4beda5a4c69f137057243dbc2dc0588fffe352cba42b265875a1e8d9564f47"
   }
  }
 },
 "nbformat": 4,
 "nbformat_minor": 2
}
