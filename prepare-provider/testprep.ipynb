{
 "cells": [
  {
   "cell_type": "code",
   "execution_count": null,
   "metadata": {},
   "outputs": [],
   "source": [
    "from scripts.resourceapi import ResourceApi\n",
    "from scripts.idsapi import IdsApi\n",
    "import pprint\n",
    "import sys\n",
    "\n",
    "pp = pprint.pp\n",
    "\n",
    "provider_url = \"https://provider:8080\"\n",
    "consumer_url = \"https://consumer:8080\"\n",
    "\n",
    "provider = ResourceApi(provider_url)"
   ]
  },
  {
   "cell_type": "code",
   "execution_count": null,
   "metadata": {},
   "outputs": [],
   "source": [
    "dataValue = \"5,aaa\\n6,bbb\\n7,ccc\\n\"\n",
    "catalog = provider.create_catalog()\n",
    "offers = provider.create_offered_resource()\n",
    "representation = provider.create_representation(data={\"dtypes\": \"\"\"{\n",
    "    \"number\": \"int\",\n",
    "    \"title\": \"str\"\n",
    "}\"\"\"})\n",
    "artifact = provider.create_artifact(data={\"value\": dataValue})\n",
    "contract = provider.create_contract()\n",
    "use_rule = provider.create_rule()\n",
    "\n",
    "## Link resources\n",
    "provider.add_resource_to_catalog(catalog, offers)\n",
    "provider.add_representation_to_resource(offers, representation)\n",
    "provider.add_artifact_to_representation(representation, artifact)\n",
    "provider.add_contract_to_resource(offers, contract)\n",
    "provider.add_rule_to_contract(contract, use_rule)\n",
    "\n",
    "print(\"Created provider resources\")\n",
    "print(\"resource\", offers)\n",
    "print(\"repr\", representation)\n",
    "print(\"artifact\", artifact)"
   ]
  },
  {
   "cell_type": "code",
   "execution_count": null,
   "metadata": {},
   "outputs": [],
   "source": [
    "consumer = IdsApi(consumer_url)"
   ]
  },
  {
   "cell_type": "code",
   "execution_count": null,
   "metadata": {},
   "outputs": [],
   "source": [
    "con = consumer.descriptionRequest(provider_url + \"/api/ids/data\")\n",
    "#pp(con)\n",
    "con['ids:resourceCatalog']"
   ]
  },
  {
   "cell_type": "code",
   "execution_count": 47,
   "metadata": {},
   "outputs": [
    {
     "name": "stdout",
     "output_type": "stream",
     "text": [
      "{'@context': {'ids': 'https://w3id.org/idsa/core/',\n",
      "              'idsc': 'https://w3id.org/idsa/code/'},\n",
      " '@type': 'ids:ResourceCatalog',\n",
      " '@id': 'https://provider:8080/api/catalogs/8f0e3c46-40d4-4d10-892b-bf8b899969cf',\n",
      " 'ids:offeredResource': [{'@type': 'ids:Resource',\n",
      "                          '@id': 'https://provider:8080/api/offers/0abd20d8-d014-4c07-8e63-707de8436a4b',\n",
      "                          'ids:version': '1',\n",
      "                          'ids:description': [{'@value': '',\n",
      "                                               '@language': 'EN'}],\n",
      "                          'ids:language': [{'@id': 'https://w3id.org/idsa/code/EN'}],\n",
      "                          'ids:title': [{'@value': '', '@language': 'EN'}],\n",
      "                          'ids:representation': [{'@type': 'ids:Representation',\n",
      "                                                  '@id': 'https://provider:8080/api/representations/4ff77d4d-74f3-4dc3-8241-5c866cbca952',\n",
      "                                                  'ids:mediaType': {'@type': 'ids:IANAMediaType',\n",
      "                                                                    '@id': 'https://w3id.org/idsa/autogen/iANAMediaType/f340aee5-8625-4ec6-a8a5-050897c7dd20'},\n",
      "                                                  'ids:language': {'@id': 'https://w3id.org/idsa/code/EN'},\n",
      "                                                  'ids:instance': [{'@type': 'ids:Artifact',\n",
      "                                                                    '@id': 'https://provider:8080/api/artifacts/84677edc-c4e2-4609-b4c1-16a2f31d3586',\n",
      "                                                                    'ids:creationDate': {'@value': '2022-07-26T07:51:05.267Z',\n",
      "                                                                                         '@type': 'http://www.w3.org/2001/XMLSchema#dateTimeStamp'},\n",
      "                                                                    'ids:byteSize': 18,\n",
      "                                                                    'ids:checkSum': '370723025'}],\n",
      "                                                  'ids:created': {'@value': '2022-07-26T07:51:05.205Z',\n",
      "                                                                  '@type': 'http://www.w3.org/2001/XMLSchema#dateTimeStamp'},\n",
      "                                                  'ids:modified': {'@value': '2022-07-26T07:51:05.205Z',\n",
      "                                                                   '@type': 'http://www.w3.org/2001/XMLSchema#dateTimeStamp'},\n",
      "                                                  'ids:representationStandard': {'@id': ''},\n",
      "                                                  'dtypes': '{\\n'\n",
      "                                                            '    \"number\": '\n",
      "                                                            '\"int\",\\n'\n",
      "                                                            '    \"title\": '\n",
      "                                                            '\"str\"\\n'\n",
      "                                                            '}'}],\n",
      "                          'ids:publisher': {'@id': ''},\n",
      "                          'ids:sovereign': {'@id': ''},\n",
      "                          'ids:created': {'@value': '2022-07-26T07:51:05.144Z',\n",
      "                                          '@type': 'http://www.w3.org/2001/XMLSchema#dateTimeStamp'},\n",
      "                          'ids:standardLicense': {'@id': ''},\n",
      "                          'ids:keyword': [{'@value': 'DSC', '@language': 'EN'}],\n",
      "                          'ids:modified': {'@value': '2022-07-26T07:51:05.144Z',\n",
      "                                           '@type': 'http://www.w3.org/2001/XMLSchema#dateTimeStamp'},\n",
      "                          'ids:resourceEndpoint': [{'@type': 'ids:ConnectorEndpoint',\n",
      "                                                    '@id': 'https://w3id.org/idsa/autogen/connectorEndpoint/7073f4fb-b9f6-40a4-8702-aaf75cc8d1b0',\n",
      "                                                    'ids:endpointDocumentation': [{'@id': ''}],\n",
      "                                                    'ids:accessURL': {'@id': 'https://provider:8080/api/offers/0abd20d8-d014-4c07-8e63-707de8436a4b'}}],\n",
      "                          'ids:contractOffer': [{'@type': 'ids:ContractOffer',\n",
      "                                                 '@id': 'https://provider:8080/api/contracts/32c93eb6-ca90-491b-930c-d984ee35104a',\n",
      "                                                 'ids:provider': {'@id': ''},\n",
      "                                                 'ids:permission': [{'@type': 'ids:Permission',\n",
      "                                                                     '@id': 'https://provider:8080/api/rules/cfb59452-4572-4168-ae11-bf7dad641b06',\n",
      "                                                                     'ids:description': [{'@value': 'provide-access',\n",
      "                                                                                          '@type': 'http://www.w3.org/2001/XMLSchema#string'}],\n",
      "                                                                     'ids:title': [{'@value': 'Example '\n",
      "                                                                                              'Usage '\n",
      "                                                                                              'Policy',\n",
      "                                                                                    '@type': 'http://www.w3.org/2001/XMLSchema#string'}],\n",
      "                                                                     'ids:action': [{'@id': 'https://w3id.org/idsa/code/USE'}]}],\n",
      "                                                 'ids:contractEnd': {'@value': '2022-12-06T11:33:44.995Z',\n",
      "                                                                     '@type': 'http://www.w3.org/2001/XMLSchema#dateTimeStamp'},\n",
      "                                                 'ids:consumer': {'@id': ''},\n",
      "                                                 'ids:contractStart': {'@value': '2021-04-06T11:33:44.995Z',\n",
      "                                                                       '@type': 'http://www.w3.org/2001/XMLSchema#dateTimeStamp'},\n",
      "                                                 'ids:contractDate': {'@value': '2022-07-26T08:26:10.457Z',\n",
      "                                                                      '@type': 'http://www.w3.org/2001/XMLSchema#dateTimeStamp'}}]}]}\n"
     ]
    }
   ],
   "source": [
    "rescat = consumer.descriptionRequest(provider_url + \"/api/ids/data\", elementId='https://provider:8080/api/catalogs/8f0e3c46-40d4-4d10-892b-bf8b899969cf')\n",
    "pp(rescat)"
   ]
  },
  {
   "cell_type": "code",
   "execution_count": 48,
   "metadata": {},
   "outputs": [
    {
     "name": "stdout",
     "output_type": "stream",
     "text": [
      "{'@context': {'ids': 'https://w3id.org/idsa/core/',\n",
      "              'idsc': 'https://w3id.org/idsa/code/'},\n",
      " '@type': 'ids:Resource',\n",
      " '@id': 'https://provider:8080/api/offers/0abd20d8-d014-4c07-8e63-707de8436a4b',\n",
      " 'ids:version': '1',\n",
      " 'ids:description': [{'@value': '', '@language': 'EN'}],\n",
      " 'ids:language': [{'@id': 'https://w3id.org/idsa/code/EN'}],\n",
      " 'ids:title': [{'@value': '', '@language': 'EN'}],\n",
      " 'ids:representation': [{'@type': 'ids:Representation',\n",
      "                         '@id': 'https://provider:8080/api/representations/4ff77d4d-74f3-4dc3-8241-5c866cbca952',\n",
      "                         'ids:mediaType': {'@type': 'ids:IANAMediaType',\n",
      "                                           '@id': 'https://w3id.org/idsa/autogen/iANAMediaType/786f9635-665e-447d-9965-906275ecbca5'},\n",
      "                         'ids:language': {'@id': 'https://w3id.org/idsa/code/EN'},\n",
      "                         'ids:instance': [{'@type': 'ids:Artifact',\n",
      "                                           '@id': 'https://provider:8080/api/artifacts/84677edc-c4e2-4609-b4c1-16a2f31d3586',\n",
      "                                           'ids:creationDate': {'@value': '2022-07-26T07:51:05.267Z',\n",
      "                                                                '@type': 'http://www.w3.org/2001/XMLSchema#dateTimeStamp'},\n",
      "                                           'ids:byteSize': 18,\n",
      "                                           'ids:checkSum': '370723025'}],\n",
      "                         'ids:created': {'@value': '2022-07-26T07:51:05.205Z',\n",
      "                                         '@type': 'http://www.w3.org/2001/XMLSchema#dateTimeStamp'},\n",
      "                         'ids:modified': {'@value': '2022-07-26T07:51:05.205Z',\n",
      "                                          '@type': 'http://www.w3.org/2001/XMLSchema#dateTimeStamp'},\n",
      "                         'ids:representationStandard': {'@id': ''},\n",
      "                         'dtypes': '{\\n'\n",
      "                                   '    \"number\": \"int\",\\n'\n",
      "                                   '    \"title\": \"str\"\\n'\n",
      "                                   '}'}],\n",
      " 'ids:publisher': {'@id': ''},\n",
      " 'ids:sovereign': {'@id': ''},\n",
      " 'ids:created': {'@value': '2022-07-26T07:51:05.144Z',\n",
      "                 '@type': 'http://www.w3.org/2001/XMLSchema#dateTimeStamp'},\n",
      " 'ids:standardLicense': {'@id': ''},\n",
      " 'ids:keyword': [{'@value': 'DSC', '@language': 'EN'}],\n",
      " 'ids:modified': {'@value': '2022-07-26T07:51:05.144Z',\n",
      "                  '@type': 'http://www.w3.org/2001/XMLSchema#dateTimeStamp'},\n",
      " 'ids:resourceEndpoint': [{'@type': 'ids:ConnectorEndpoint',\n",
      "                           '@id': 'https://w3id.org/idsa/autogen/connectorEndpoint/49d28906-16ea-4b1c-a883-27c535414a92',\n",
      "                           'ids:endpointDocumentation': [{'@id': ''}],\n",
      "                           'ids:accessURL': {'@id': 'https://provider:8080/api/offers/0abd20d8-d014-4c07-8e63-707de8436a4b'}}],\n",
      " 'ids:contractOffer': [{'@type': 'ids:ContractOffer',\n",
      "                        '@id': 'https://provider:8080/api/contracts/32c93eb6-ca90-491b-930c-d984ee35104a',\n",
      "                        'ids:provider': {'@id': ''},\n",
      "                        'ids:permission': [{'@type': 'ids:Permission',\n",
      "                                            '@id': 'https://provider:8080/api/rules/cfb59452-4572-4168-ae11-bf7dad641b06',\n",
      "                                            'ids:description': [{'@value': 'provide-access',\n",
      "                                                                 '@type': 'http://www.w3.org/2001/XMLSchema#string'}],\n",
      "                                            'ids:title': [{'@value': 'Example '\n",
      "                                                                     'Usage '\n",
      "                                                                     'Policy',\n",
      "                                                           '@type': 'http://www.w3.org/2001/XMLSchema#string'}],\n",
      "                                            'ids:action': [{'@id': 'https://w3id.org/idsa/code/USE'}]}],\n",
      "                        'ids:contractEnd': {'@value': '2022-12-06T11:33:44.995Z',\n",
      "                                            '@type': 'http://www.w3.org/2001/XMLSchema#dateTimeStamp'},\n",
      "                        'ids:consumer': {'@id': ''},\n",
      "                        'ids:contractStart': {'@value': '2021-04-06T11:33:44.995Z',\n",
      "                                              '@type': 'http://www.w3.org/2001/XMLSchema#dateTimeStamp'},\n",
      "                        'ids:contractDate': {'@value': '2022-07-26T08:31:18.324Z',\n",
      "                                             '@type': 'http://www.w3.org/2001/XMLSchema#dateTimeStamp'}}]}\n"
     ]
    }
   ],
   "source": [
    "res = consumer.descriptionRequest(provider_url + \"/api/ids/data\", elementId='https://provider:8080/api/offers/0abd20d8-d014-4c07-8e63-707de8436a4b')\n",
    "pp(res)"
   ]
  }
 ],
 "metadata": {
  "kernelspec": {
   "display_name": "Python 3.10.5 64-bit ('INTAKEIDS')",
   "language": "python",
   "name": "python3"
  },
  "language_info": {
   "codemirror_mode": {
    "name": "ipython",
    "version": 3
   },
   "file_extension": ".py",
   "mimetype": "text/x-python",
   "name": "python",
   "nbconvert_exporter": "python",
   "pygments_lexer": "ipython3",
   "version": "3.10.5"
  },
  "orig_nbformat": 4,
  "vscode": {
   "interpreter": {
    "hash": "fb4beda5a4c69f137057243dbc2dc0588fffe352cba42b265875a1e8d9564f47"
   }
  }
 },
 "nbformat": 4,
 "nbformat_minor": 2
}
